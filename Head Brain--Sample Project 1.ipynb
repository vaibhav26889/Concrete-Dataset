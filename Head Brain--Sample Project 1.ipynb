{
 "cells": [
  {
   "cell_type": "code",
   "execution_count": 2,
   "metadata": {},
   "outputs": [],
   "source": [
    "import numpy as np\n",
    "import pandas as pd\n",
    "import matplotlib.pyplot as plt\n",
    "import seaborn as sns\n",
    "import warnings\n",
    "warnings.filterwarnings('ignore')"
   ]
  },
  {
   "cell_type": "code",
   "execution_count": 3,
   "metadata": {},
   "outputs": [
    {
     "data": {
      "text/html": [
       "<div>\n",
       "<style scoped>\n",
       "    .dataframe tbody tr th:only-of-type {\n",
       "        vertical-align: middle;\n",
       "    }\n",
       "\n",
       "    .dataframe tbody tr th {\n",
       "        vertical-align: top;\n",
       "    }\n",
       "\n",
       "    .dataframe thead th {\n",
       "        text-align: right;\n",
       "    }\n",
       "</style>\n",
       "<table border=\"1\" class=\"dataframe\">\n",
       "  <thead>\n",
       "    <tr style=\"text-align: right;\">\n",
       "      <th></th>\n",
       "      <th>Gender</th>\n",
       "      <th>AgeRange</th>\n",
       "      <th>HeadSize</th>\n",
       "      <th>BrainWeight</th>\n",
       "    </tr>\n",
       "  </thead>\n",
       "  <tbody>\n",
       "    <tr>\n",
       "      <th>0</th>\n",
       "      <td>1</td>\n",
       "      <td>1</td>\n",
       "      <td>4512</td>\n",
       "      <td>1530</td>\n",
       "    </tr>\n",
       "    <tr>\n",
       "      <th>1</th>\n",
       "      <td>1</td>\n",
       "      <td>1</td>\n",
       "      <td>3738</td>\n",
       "      <td>1297</td>\n",
       "    </tr>\n",
       "    <tr>\n",
       "      <th>2</th>\n",
       "      <td>1</td>\n",
       "      <td>1</td>\n",
       "      <td>4261</td>\n",
       "      <td>1335</td>\n",
       "    </tr>\n",
       "    <tr>\n",
       "      <th>3</th>\n",
       "      <td>1</td>\n",
       "      <td>1</td>\n",
       "      <td>3777</td>\n",
       "      <td>1282</td>\n",
       "    </tr>\n",
       "    <tr>\n",
       "      <th>4</th>\n",
       "      <td>1</td>\n",
       "      <td>1</td>\n",
       "      <td>4177</td>\n",
       "      <td>1590</td>\n",
       "    </tr>\n",
       "    <tr>\n",
       "      <th>...</th>\n",
       "      <td>...</td>\n",
       "      <td>...</td>\n",
       "      <td>...</td>\n",
       "      <td>...</td>\n",
       "    </tr>\n",
       "    <tr>\n",
       "      <th>232</th>\n",
       "      <td>2</td>\n",
       "      <td>2</td>\n",
       "      <td>3214</td>\n",
       "      <td>1110</td>\n",
       "    </tr>\n",
       "    <tr>\n",
       "      <th>233</th>\n",
       "      <td>2</td>\n",
       "      <td>2</td>\n",
       "      <td>3394</td>\n",
       "      <td>1215</td>\n",
       "    </tr>\n",
       "    <tr>\n",
       "      <th>234</th>\n",
       "      <td>2</td>\n",
       "      <td>2</td>\n",
       "      <td>3233</td>\n",
       "      <td>1104</td>\n",
       "    </tr>\n",
       "    <tr>\n",
       "      <th>235</th>\n",
       "      <td>2</td>\n",
       "      <td>2</td>\n",
       "      <td>3352</td>\n",
       "      <td>1170</td>\n",
       "    </tr>\n",
       "    <tr>\n",
       "      <th>236</th>\n",
       "      <td>2</td>\n",
       "      <td>2</td>\n",
       "      <td>3391</td>\n",
       "      <td>1120</td>\n",
       "    </tr>\n",
       "  </tbody>\n",
       "</table>\n",
       "<p>237 rows × 4 columns</p>\n",
       "</div>"
      ],
      "text/plain": [
       "     Gender  AgeRange  HeadSize  BrainWeight\n",
       "0         1         1      4512         1530\n",
       "1         1         1      3738         1297\n",
       "2         1         1      4261         1335\n",
       "3         1         1      3777         1282\n",
       "4         1         1      4177         1590\n",
       "..      ...       ...       ...          ...\n",
       "232       2         2      3214         1110\n",
       "233       2         2      3394         1215\n",
       "234       2         2      3233         1104\n",
       "235       2         2      3352         1170\n",
       "236       2         2      3391         1120\n",
       "\n",
       "[237 rows x 4 columns]"
      ]
     },
     "execution_count": 3,
     "metadata": {},
     "output_type": "execute_result"
    }
   ],
   "source": [
    "df=pd.read_csv('headbrain.csv')\n",
    "df"
   ]
  },
  {
   "cell_type": "code",
   "execution_count": 4,
   "metadata": {},
   "outputs": [
    {
     "data": {
      "text/plain": [
       "(237, 4)"
      ]
     },
     "execution_count": 4,
     "metadata": {},
     "output_type": "execute_result"
    }
   ],
   "source": [
    "df.shape"
   ]
  },
  {
   "cell_type": "code",
   "execution_count": 5,
   "metadata": {},
   "outputs": [
    {
     "data": {
      "text/plain": [
       "Gender         int64\n",
       "AgeRange       int64\n",
       "HeadSize       int64\n",
       "BrainWeight    int64\n",
       "dtype: object"
      ]
     },
     "execution_count": 5,
     "metadata": {},
     "output_type": "execute_result"
    }
   ],
   "source": [
    "df.dtypes"
   ]
  },
  {
   "cell_type": "code",
   "execution_count": 6,
   "metadata": {},
   "outputs": [
    {
     "data": {
      "text/html": [
       "<div>\n",
       "<style scoped>\n",
       "    .dataframe tbody tr th:only-of-type {\n",
       "        vertical-align: middle;\n",
       "    }\n",
       "\n",
       "    .dataframe tbody tr th {\n",
       "        vertical-align: top;\n",
       "    }\n",
       "\n",
       "    .dataframe thead th {\n",
       "        text-align: right;\n",
       "    }\n",
       "</style>\n",
       "<table border=\"1\" class=\"dataframe\">\n",
       "  <thead>\n",
       "    <tr style=\"text-align: right;\">\n",
       "      <th></th>\n",
       "      <th>Gender</th>\n",
       "      <th>AgeRange</th>\n",
       "      <th>HeadSize</th>\n",
       "      <th>BrainWeight</th>\n",
       "    </tr>\n",
       "  </thead>\n",
       "  <tbody>\n",
       "    <tr>\n",
       "      <th>0</th>\n",
       "      <td>False</td>\n",
       "      <td>False</td>\n",
       "      <td>False</td>\n",
       "      <td>False</td>\n",
       "    </tr>\n",
       "    <tr>\n",
       "      <th>1</th>\n",
       "      <td>False</td>\n",
       "      <td>False</td>\n",
       "      <td>False</td>\n",
       "      <td>False</td>\n",
       "    </tr>\n",
       "    <tr>\n",
       "      <th>2</th>\n",
       "      <td>False</td>\n",
       "      <td>False</td>\n",
       "      <td>False</td>\n",
       "      <td>False</td>\n",
       "    </tr>\n",
       "    <tr>\n",
       "      <th>3</th>\n",
       "      <td>False</td>\n",
       "      <td>False</td>\n",
       "      <td>False</td>\n",
       "      <td>False</td>\n",
       "    </tr>\n",
       "    <tr>\n",
       "      <th>4</th>\n",
       "      <td>False</td>\n",
       "      <td>False</td>\n",
       "      <td>False</td>\n",
       "      <td>False</td>\n",
       "    </tr>\n",
       "    <tr>\n",
       "      <th>...</th>\n",
       "      <td>...</td>\n",
       "      <td>...</td>\n",
       "      <td>...</td>\n",
       "      <td>...</td>\n",
       "    </tr>\n",
       "    <tr>\n",
       "      <th>232</th>\n",
       "      <td>False</td>\n",
       "      <td>False</td>\n",
       "      <td>False</td>\n",
       "      <td>False</td>\n",
       "    </tr>\n",
       "    <tr>\n",
       "      <th>233</th>\n",
       "      <td>False</td>\n",
       "      <td>False</td>\n",
       "      <td>False</td>\n",
       "      <td>False</td>\n",
       "    </tr>\n",
       "    <tr>\n",
       "      <th>234</th>\n",
       "      <td>False</td>\n",
       "      <td>False</td>\n",
       "      <td>False</td>\n",
       "      <td>False</td>\n",
       "    </tr>\n",
       "    <tr>\n",
       "      <th>235</th>\n",
       "      <td>False</td>\n",
       "      <td>False</td>\n",
       "      <td>False</td>\n",
       "      <td>False</td>\n",
       "    </tr>\n",
       "    <tr>\n",
       "      <th>236</th>\n",
       "      <td>False</td>\n",
       "      <td>False</td>\n",
       "      <td>False</td>\n",
       "      <td>False</td>\n",
       "    </tr>\n",
       "  </tbody>\n",
       "</table>\n",
       "<p>237 rows × 4 columns</p>\n",
       "</div>"
      ],
      "text/plain": [
       "     Gender  AgeRange  HeadSize  BrainWeight\n",
       "0     False     False     False        False\n",
       "1     False     False     False        False\n",
       "2     False     False     False        False\n",
       "3     False     False     False        False\n",
       "4     False     False     False        False\n",
       "..      ...       ...       ...          ...\n",
       "232   False     False     False        False\n",
       "233   False     False     False        False\n",
       "234   False     False     False        False\n",
       "235   False     False     False        False\n",
       "236   False     False     False        False\n",
       "\n",
       "[237 rows x 4 columns]"
      ]
     },
     "execution_count": 6,
     "metadata": {},
     "output_type": "execute_result"
    }
   ],
   "source": [
    "df.isnull()"
   ]
  },
  {
   "cell_type": "code",
   "execution_count": 7,
   "metadata": {},
   "outputs": [
    {
     "data": {
      "text/plain": [
       "<matplotlib.axes._subplots.AxesSubplot at 0x166adb1adc8>"
      ]
     },
     "execution_count": 7,
     "metadata": {},
     "output_type": "execute_result"
    },
    {
     "data": {
      "image/png": "[encoded data removed]",
      "text/plain": [
       "<Figure size 432x288 with 2 Axes>"
      ]
     },
     "metadata": {
      "needs_background": "light"
     },
     "output_type": "display_data"
    }
   ],
   "source": [
    "sns.heatmap(df.isnull())"
   ]
  },
  {
   "cell_type": "code",
   "execution_count": 8,
   "metadata": {},
   "outputs": [
    {
     "data": {
      "text/plain": [
       "<matplotlib.axes._subplots.AxesSubplot at 0x166adc89788>"
      ]
     },
     "execution_count": 8,
     "metadata": {},
     "output_type": "execute_result"
    },
    {
     "data": {
      "image/png": "[encoded data removed]",
      "text/plain": [
       "<Figure size 432x288 with 2 Axes>"
      ]
     },
     "metadata": {
      "needs_background": "light"
     },
     "output_type": "display_data"
    }
   ],
   "source": [
    "sns.heatmap(df.isnull(),annot=True)"
   ]
  },
  {
   "cell_type": "code",
   "execution_count": 22,
   "metadata": {},
   "outputs": [
    {
     "data": {
      "text/plain": [
       "Gender         0\n",
       "AgeRange       0\n",
       "HeadSize       0\n",
       "BrainWeight    0\n",
       "dtype: int64"
      ]
     },
     "execution_count": 22,
     "metadata": {},
     "output_type": "execute_result"
    }
   ],
   "source": [
    "df.isnull().sum()"
   ]
  },
  {
   "cell_type": "code",
   "execution_count": 10,
   "metadata": {},
   "outputs": [
    {
     "data": {
      "text/plain": [
       "Index(['Gender', 'AgeRange', 'HeadSize', 'BrainWeight'], dtype='object')"
      ]
     },
     "execution_count": 10,
     "metadata": {},
     "output_type": "execute_result"
    }
   ],
   "source": [
    "df.columns"
   ]
  },
  {
   "cell_type": "code",
   "execution_count": 14,
   "metadata": {},
   "outputs": [
    {
     "data": {
      "text/plain": [
       "<matplotlib.axes._subplots.AxesSubplot at 0x166ae8f76c8>"
      ]
     },
     "execution_count": 14,
     "metadata": {},
     "output_type": "execute_result"
    },
    {
     "data": {
      "image/png": "[encoded data removed]",
      "text/plain": [
       "<Figure size 432x288 with 1 Axes>"
      ]
     },
     "metadata": {
      "needs_background": "light"
     },
     "output_type": "display_data"
    }
   ],
   "source": [
    "df['Gender'].plot.box()"
   ]
  },
  {
   "cell_type": "code",
   "execution_count": 12,
   "metadata": {},
   "outputs": [
    {
     "data": {
      "text/plain": [
       "<matplotlib.axes._subplots.AxesSubplot at 0x166ae780608>"
      ]
     },
     "execution_count": 12,
     "metadata": {},
     "output_type": "execute_result"
    },
    {
     "data": {
      "image/png": "[encoded data removed]",
      "text/plain": [
       "<Figure size 432x288 with 1 Axes>"
      ]
     },
     "metadata": {
      "needs_background": "light"
     },
     "output_type": "display_data"
    }
   ],
   "source": [
    "df['AgeRange'].plot.box()"
   ]
  },
  {
   "cell_type": "code",
   "execution_count": 16,
   "metadata": {},
   "outputs": [
    {
     "data": {
      "text/plain": [
       "<matplotlib.axes._subplots.AxesSubplot at 0x166ae956fc8>"
      ]
     },
     "execution_count": 16,
     "metadata": {},
     "output_type": "execute_result"
    },
    {
     "data": {
      "image/png": "[encoded data removed]",
      "text/plain": [
       "<Figure size 432x288 with 1 Axes>"
      ]
     },
     "metadata": {
      "needs_background": "light"
     },
     "output_type": "display_data"
    }
   ],
   "source": [
    "df['HeadSize'].plot.box()"
   ]
  },
  {
   "cell_type": "code",
   "execution_count": 17,
   "metadata": {},
   "outputs": [
    {
     "data": {
      "text/plain": [
       "<matplotlib.axes._subplots.AxesSubplot at 0x166ae9bf1c8>"
      ]
     },
     "execution_count": 17,
     "metadata": {},
     "output_type": "execute_result"
    },
    {
     "data": {
      "image/png": "[encoded data removed]",
      "text/plain": [
       "<Figure size 432x288 with 1 Axes>"
      ]
     },
     "metadata": {
      "needs_background": "light"
     },
     "output_type": "display_data"
    }
   ],
   "source": [
    "df['BrainWeight'].plot.box()"
   ]
  },
  {
   "cell_type": "raw",
   "metadata": {},
   "source": [
    "# From here we can see that there are some OUTLIERS present in this data"
   ]
  },
  {
   "cell_type": "code",
   "execution_count": 19,
   "metadata": {},
   "outputs": [
    {
     "data": {
      "text/html": [
       "<div>\n",
       "<style scoped>\n",
       "    .dataframe tbody tr th:only-of-type {\n",
       "        vertical-align: middle;\n",
       "    }\n",
       "\n",
       "    .dataframe tbody tr th {\n",
       "        vertical-align: top;\n",
       "    }\n",
       "\n",
       "    .dataframe thead th {\n",
       "        text-align: right;\n",
       "    }\n",
       "</style>\n",
       "<table border=\"1\" class=\"dataframe\">\n",
       "  <thead>\n",
       "    <tr style=\"text-align: right;\">\n",
       "      <th></th>\n",
       "      <th>Gender</th>\n",
       "      <th>AgeRange</th>\n",
       "      <th>HeadSize</th>\n",
       "      <th>BrainWeight</th>\n",
       "    </tr>\n",
       "  </thead>\n",
       "  <tbody>\n",
       "    <tr>\n",
       "      <th>count</th>\n",
       "      <td>237.000000</td>\n",
       "      <td>237.000000</td>\n",
       "      <td>237.000000</td>\n",
       "      <td>237.000000</td>\n",
       "    </tr>\n",
       "    <tr>\n",
       "      <th>mean</th>\n",
       "      <td>1.434599</td>\n",
       "      <td>1.535865</td>\n",
       "      <td>3633.991561</td>\n",
       "      <td>1282.873418</td>\n",
       "    </tr>\n",
       "    <tr>\n",
       "      <th>std</th>\n",
       "      <td>0.496753</td>\n",
       "      <td>0.499768</td>\n",
       "      <td>365.261422</td>\n",
       "      <td>120.340446</td>\n",
       "    </tr>\n",
       "    <tr>\n",
       "      <th>min</th>\n",
       "      <td>1.000000</td>\n",
       "      <td>1.000000</td>\n",
       "      <td>2720.000000</td>\n",
       "      <td>955.000000</td>\n",
       "    </tr>\n",
       "    <tr>\n",
       "      <th>25%</th>\n",
       "      <td>1.000000</td>\n",
       "      <td>1.000000</td>\n",
       "      <td>3389.000000</td>\n",
       "      <td>1207.000000</td>\n",
       "    </tr>\n",
       "    <tr>\n",
       "      <th>50%</th>\n",
       "      <td>1.000000</td>\n",
       "      <td>2.000000</td>\n",
       "      <td>3614.000000</td>\n",
       "      <td>1280.000000</td>\n",
       "    </tr>\n",
       "    <tr>\n",
       "      <th>75%</th>\n",
       "      <td>2.000000</td>\n",
       "      <td>2.000000</td>\n",
       "      <td>3876.000000</td>\n",
       "      <td>1350.000000</td>\n",
       "    </tr>\n",
       "    <tr>\n",
       "      <th>max</th>\n",
       "      <td>2.000000</td>\n",
       "      <td>2.000000</td>\n",
       "      <td>4747.000000</td>\n",
       "      <td>1635.000000</td>\n",
       "    </tr>\n",
       "  </tbody>\n",
       "</table>\n",
       "</div>"
      ],
      "text/plain": [
       "           Gender    AgeRange     HeadSize  BrainWeight\n",
       "count  237.000000  237.000000   237.000000   237.000000\n",
       "mean     1.434599    1.535865  3633.991561  1282.873418\n",
       "std      0.496753    0.499768   365.261422   120.340446\n",
       "min      1.000000    1.000000  2720.000000   955.000000\n",
       "25%      1.000000    1.000000  3389.000000  1207.000000\n",
       "50%      1.000000    2.000000  3614.000000  1280.000000\n",
       "75%      2.000000    2.000000  3876.000000  1350.000000\n",
       "max      2.000000    2.000000  4747.000000  1635.000000"
      ]
     },
     "execution_count": 19,
     "metadata": {},
     "output_type": "execute_result"
    }
   ],
   "source": [
    "df.describe()"
   ]
  },
  {
   "cell_type": "raw",
   "metadata": {},
   "source": [
    "# Here we can see that there are some Skewed data present as well as in Headsize and BrainWeight Mean is greather then median"
   ]
  },
  {
   "cell_type": "code",
   "execution_count": 21,
   "metadata": {},
   "outputs": [
    {
     "data": {
      "text/plain": [
       "<seaborn.axisgrid.PairGrid at 0x166aea2af88>"
      ]
     },
     "execution_count": 21,
     "metadata": {},
     "output_type": "execute_result"
    },
    {
     "data": {
      "image/png": "[encoded data removed]",
      "text/plain": [
       "<Figure size 720x720 with 20 Axes>"
      ]
     },
     "metadata": {
      "needs_background": "light"
     },
     "output_type": "display_data"
    }
   ],
   "source": [
    "sns.pairplot(df)"
   ]
  },
  {
   "cell_type": "code",
   "execution_count": 23,
   "metadata": {},
   "outputs": [],
   "source": [
    "# We need to remove the OUTLIERS"
   ]
  },
  {
   "cell_type": "code",
   "execution_count": 24,
   "metadata": {},
   "outputs": [],
   "source": [
    "from scipy.stats import zscore"
   ]
  },
  {
   "cell_type": "code",
   "execution_count": 25,
   "metadata": {},
   "outputs": [
    {
     "data": {
      "text/plain": [
       "array([[0.8767307 , 1.07449777, 2.40886829, 2.0579083 ],\n",
       "       [0.8767307 , 1.07449777, 0.28535333, 0.11763692],\n",
       "       [0.8767307 , 1.07449777, 1.72023489, 0.43407603],\n",
       "       [0.8767307 , 1.07449777, 0.39235214, 0.00727325],\n",
       "       [0.8767307 , 1.07449777, 1.4897759 , 2.557549  ],\n",
       "       [0.8767307 , 1.07449777, 0.13441126, 0.14261896],\n",
       "       [0.8767307 , 1.07449777, 0.41430062, 0.97535345],\n",
       "       [0.8767307 , 1.07449777, 0.2057438 , 0.23211156],\n",
       "       [0.8767307 , 1.07449777, 0.05759159, 0.60062293],\n",
       "       [0.8767307 , 1.07449777, 0.95478182, 0.76716983],\n",
       "       [0.8767307 , 1.07449777, 0.52399669, 0.47571276],\n",
       "       [0.8767307 , 1.07449777, 0.98496097, 0.80880656],\n",
       "       [0.8767307 , 1.07449777, 0.01648451, 0.60062293],\n",
       "       [0.8767307 , 1.07449777, 1.57482624, 1.99128954],\n",
       "       [0.8767307 , 1.07449777, 0.54324791, 0.62349678],\n",
       "       [0.8767307 , 1.07449777, 0.66396452, 1.01699018],\n",
       "       [0.8767307 , 1.07449777, 0.37584448, 0.62560497],\n",
       "       [0.8767307 , 1.07449777, 0.46089482, 0.0760002 ],\n",
       "       [0.8767307 , 1.07449777, 1.47875536, 0.47571276],\n",
       "       [0.8767307 , 1.07449777, 2.16743507, 0.97535345],\n",
       "       [0.8767307 , 1.07449777, 0.66945164, 0.61727762],\n",
       "       [0.8767307 , 1.07449777, 1.13036962, 0.03436347],\n",
       "       [0.8767307 , 1.07449777, 0.46642825, 0.06556467],\n",
       "       [0.8767307 , 1.07449777, 0.20853367, 0.10720139],\n",
       "       [0.8767307 , 1.07449777, 3.05360475, 2.93227952],\n",
       "       [0.8767307 , 1.07449777, 2.16469151, 1.84972468],\n",
       "       [0.8767307 , 1.07449777, 1.10293403, 1.7248145 ],\n",
       "       [0.8767307 , 1.07449777, 1.06452419, 1.68317778],\n",
       "       [0.8767307 , 1.07449777, 0.49381754, 0.22589241],\n",
       "       [0.8767307 , 1.07449777, 1.48428878, 1.14190035],\n",
       "       [0.8767307 , 1.07449777, 0.41978774, 0.29251117],\n",
       "       [0.8767307 , 1.07449777, 0.44447977, 1.24182849],\n",
       "       [0.8767307 , 1.07449777, 1.28675251, 0.67556904],\n",
       "       [0.8767307 , 1.07449777, 1.44587895, 1.01699018],\n",
       "       [0.8767307 , 1.07449777, 1.43764827, 1.24182849],\n",
       "       [0.8767307 , 1.07449777, 0.49386384, 0.63182412],\n",
       "       [0.8767307 , 1.07449777, 0.2935377 , 0.76716983],\n",
       "       [0.8767307 , 1.07449777, 0.31278892, 0.55898621],\n",
       "       [0.8767307 , 1.07449777, 0.82304466, 0.39033112],\n",
       "       [0.8767307 , 1.07449777, 0.38956228, 0.27374829],\n",
       "       [0.8767307 , 1.07449777, 0.89991063, 0.55898621],\n",
       "       [0.8767307 , 1.07449777, 0.35389601, 0.30916586],\n",
       "       [0.8767307 , 1.07449777, 1.8683871 , 2.01627157],\n",
       "       [0.8767307 , 1.07449777, 0.46642825, 2.3910021 ],\n",
       "       [0.8767307 , 1.07449777, 0.62829825, 0.47571276],\n",
       "       [0.8767307 , 1.07449777, 1.09744691, 1.15855504],\n",
       "       [0.8767307 , 1.07449777, 1.84918218, 1.85805202],\n",
       "       [0.8767307 , 1.07449777, 1.2867062 , 0.56520536],\n",
       "       [0.8767307 , 1.07449777, 0.01922807, 0.23421975],\n",
       "       [0.8767307 , 1.07449777, 0.02745875, 0.14261896],\n",
       "       [0.8767307 , 1.07449777, 0.70511792, 0.49025926],\n",
       "       [0.8767307 , 1.07449777, 0.4362491 , 0.55898621],\n",
       "       [0.8767307 , 1.07449777, 1.74492692, 0.43407603],\n",
       "       [0.8767307 , 1.07449777, 1.17701013, 0.89208   ],\n",
       "       [0.8767307 , 1.07449777, 1.0370886 , 0.97535345],\n",
       "       [0.8767307 , 1.07449777, 0.4828433 , 0.48193191],\n",
       "       [0.8767307 , 1.07449777, 0.70237436, 0.22589241],\n",
       "       [0.8767307 , 0.93066736, 1.45959675, 2.30772865],\n",
       "       [0.8767307 , 0.93066736, 0.82583453, 0.39243931],\n",
       "       [0.8767307 , 0.93066736, 0.09604773, 0.50691395],\n",
       "       [0.8767307 , 0.93066736, 0.63652893, 1.10026363],\n",
       "       [0.8767307 , 0.93066736, 0.66117466, 0.89829916],\n",
       "       [0.8767307 , 0.93066736, 2.21681914, 0.39243931],\n",
       "       [0.8767307 , 0.93066736, 1.69828641, 1.68317778],\n",
       "       [0.8767307 , 0.93066736, 0.25517418, 1.5582676 ],\n",
       "       [0.8767307 , 0.93066736, 0.83676246, 1.23139296],\n",
       "       [0.8767307 , 0.93066736, 0.60081635, 0.22589241],\n",
       "       [0.8767307 , 0.93066736, 0.71878941, 1.07317341],\n",
       "       [0.8767307 , 0.93066736, 2.18389643, 1.8913614 ],\n",
       "       [0.8767307 , 0.93066736, 2.04946202, 1.10026363],\n",
       "       [0.8767307 , 0.93066736, 1.02611436, 1.54161291],\n",
       "       [0.8767307 , 0.93066736, 0.61458046, 0.89208   ],\n",
       "       [0.8767307 , 0.93066736, 1.33613657, 0.80880656],\n",
       "       [0.8767307 , 0.93066736, 1.16054877, 1.24182849],\n",
       "       [0.8767307 , 0.93066736, 0.52129944, 0.35702174],\n",
       "       [0.8767307 , 0.93066736, 0.6584311 , 0.73175226],\n",
       "       [0.8767307 , 0.93066736, 0.20848736, 0.48193191],\n",
       "       [0.8767307 , 0.93066736, 0.746225  , 0.79004368],\n",
       "       [0.8767307 , 0.93066736, 0.81211673, 0.2570936 ],\n",
       "       [0.8767307 , 0.93066736, 0.55147859, 0.26752913],\n",
       "       [0.8767307 , 0.93066736, 0.53776079, 0.31538501],\n",
       "       [0.8767307 , 0.93066736, 0.60909334, 1.2251738 ],\n",
       "       [0.8767307 , 0.93066736, 1.05624721, 0.03225529],\n",
       "       [0.8767307 , 0.93066736, 0.15635973, 0.31538501],\n",
       "       [0.8767307 , 0.93066736, 0.82034741, 0.21756506],\n",
       "       [0.8767307 , 0.93066736, 0.59263198, 1.07528159],\n",
       "       [0.8767307 , 0.93066736, 0.89163365, 1.35630313],\n",
       "       [0.8767307 , 0.93066736, 0.62550839, 0.52356864],\n",
       "       [0.8767307 , 0.93066736, 0.35115245, 0.02392794],\n",
       "       [0.8767307 , 0.93066736, 0.74901487, 1.30844725],\n",
       "       [0.8767307 , 0.93066736, 1.44313539, 0.72553311],\n",
       "       [0.8767307 , 0.93066736, 0.86694161, 0.7567343 ],\n",
       "       [0.8767307 , 0.93066736, 0.07684282, 0.44029519],\n",
       "       [0.8767307 , 0.93066736, 0.72706639, 0.52567683],\n",
       "       [0.8767307 , 0.93066736, 0.18109807, 0.05934551],\n",
       "       [0.8767307 , 0.93066736, 0.39783926, 0.98157261],\n",
       "       [0.8767307 , 0.93066736, 0.44168991, 0.35702174],\n",
       "       [0.8767307 , 0.93066736, 0.3950494 , 1.25637499],\n",
       "       [0.8767307 , 0.93066736, 0.05489434, 0.34036705],\n",
       "       [0.8767307 , 0.93066736, 0.42797211, 0.10720139],\n",
       "       [0.8767307 , 0.93066736, 0.3813316 , 0.54022333],\n",
       "       [0.8767307 , 0.93066736, 0.54873503, 1.2251738 ],\n",
       "       [0.8767307 , 0.93066736, 0.66396452, 2.54089431],\n",
       "       [0.8767307 , 0.93066736, 0.07409926, 0.30916586],\n",
       "       [0.8767307 , 0.93066736, 0.0438738 , 0.05934551],\n",
       "       [0.8767307 , 0.93066736, 0.03843298, 0.19047484],\n",
       "       [0.8767307 , 0.93066736, 1.09195979, 1.18353708],\n",
       "       [0.8767307 , 0.93066736, 0.6447133 , 0.47360457],\n",
       "       [0.8767307 , 0.93066736, 0.7737069 , 0.64225966],\n",
       "       [0.8767307 , 0.93066736, 2.18389643, 2.80736935],\n",
       "       [0.8767307 , 0.93066736, 0.16738028, 0.22589241],\n",
       "       [0.8767307 , 0.93066736, 0.30176838, 0.27374829],\n",
       "       [0.8767307 , 0.93066736, 0.17282109, 0.10098223],\n",
       "       [0.8767307 , 0.93066736, 0.10971922, 0.05934551],\n",
       "       [0.8767307 , 0.93066736, 0.68861025, 0.05934551],\n",
       "       [0.8767307 , 0.93066736, 0.37035736, 0.06556467],\n",
       "       [0.8767307 , 0.93066736, 0.12343702, 0.27374829],\n",
       "       [0.8767307 , 0.93066736, 0.72980995, 0.10720139],\n",
       "       [0.8767307 , 0.93066736, 1.31693166, 0.65891435],\n",
       "       [0.8767307 , 0.93066736, 0.83132165, 0.14261896],\n",
       "       [0.8767307 , 0.93066736, 0.6447133 , 0.91495385],\n",
       "       [0.8767307 , 0.93066736, 1.55287777, 0.22378422],\n",
       "       [0.8767307 , 0.93066736, 2.34302287, 1.30844725],\n",
       "       [0.8767307 , 0.93066736, 0.05484804, 0.85666244],\n",
       "       [0.8767307 , 0.93066736, 1.14408742, 0.19258303],\n",
       "       [0.8767307 , 0.93066736, 0.40606994, 0.55898621],\n",
       "       [0.8767307 , 0.93066736, 0.66666178, 1.31466641],\n",
       "       [0.8767307 , 0.93066736, 1.39919214, 0.98157261],\n",
       "       [0.8767307 , 0.93066736, 1.14957454, 0.2425471 ],\n",
       "       [0.8767307 , 0.93066736, 0.14264194, 0.14261896],\n",
       "       [0.8767307 , 0.93066736, 0.08781705, 0.10720139],\n",
       "       [0.8767307 , 0.93066736, 0.27981991, 0.43407603],\n",
       "       [0.8767307 , 0.93066736, 1.13036962, 1.3917207 ],\n",
       "       [0.8767307 , 0.93066736, 0.09056061, 0.22589241],\n",
       "       [1.1406011 , 1.07449777, 2.13172249, 2.13074621],\n",
       "       [1.1406011 , 1.07449777, 0.54320161, 0.39865846],\n",
       "       [1.1406011 , 1.07449777, 0.43076198, 0.19047484],\n",
       "       [1.1406011 , 1.07449777, 0.91083856, 0.98157261],\n",
       "       [1.1406011 , 1.07449777, 1.45406332, 1.68939693],\n",
       "       [1.1406011 , 1.07449777, 1.27024484, 1.29801172],\n",
       "       [1.1406011 , 1.07449777, 0.17007753, 0.10720139],\n",
       "       [1.1406011 , 1.07449777, 0.28530702, 0.2570936 ],\n",
       "       [1.1406011 , 1.07449777, 1.25927061, 0.69011554],\n",
       "       [1.1406011 , 1.07449777, 0.53771449, 0.05934551],\n",
       "       [1.1406011 , 1.07449777, 0.73804063, 0.42574869],\n",
       "       [1.1406011 , 1.07449777, 0.72706639, 0.80880656],\n",
       "       [1.1406011 , 1.07449777, 0.63922618, 1.18975623],\n",
       "       [1.1406011 , 1.07449777, 1.00686314, 0.3320397 ],\n",
       "       [1.1406011 , 1.07449777, 0.50204822, 0.47571276],\n",
       "       [1.1406011 , 1.07449777, 1.49247315, 0.95659058],\n",
       "       [1.1406011 , 1.07449777, 0.60630347, 0.32582055],\n",
       "       [1.1406011 , 1.07449777, 0.85322382, 0.28207563],\n",
       "       [1.1406011 , 1.07449777, 0.12622688, 0.3174932 ],\n",
       "       [1.1406011 , 1.07449777, 0.53497093, 0.7567343 ],\n",
       "       [1.1406011 , 1.07449777, 0.60086266, 0.75051514],\n",
       "       [1.1406011 , 1.07449777, 1.31139823, 0.93993589],\n",
       "       [1.1406011 , 1.07449777, 0.97394043, 0.14883811],\n",
       "       [1.1406011 , 1.07449777, 0.20030299, 0.39865846],\n",
       "       [1.1406011 , 1.07449777, 1.02062724, 0.15927365],\n",
       "       [1.1406011 , 1.07449777, 1.00137602, 0.34869439],\n",
       "       [1.1406011 , 1.07449777, 1.54460078, 1.70605162],\n",
       "       [1.1406011 , 1.07449777, 0.39783926, 1.97463485],\n",
       "       [1.1406011 , 1.07449777, 0.23592295, 1.47499415],\n",
       "       [1.1406011 , 1.07449777, 0.93827416, 1.73103366],\n",
       "       [1.1406011 , 1.07449777, 0.37584448, 0.02392794],\n",
       "       [1.1406011 , 1.07449777, 1.51442163, 0.85666244],\n",
       "       [1.1406011 , 1.07449777, 1.05899077, 0.27374829],\n",
       "       [1.1406011 , 1.07449777, 0.75719924, 0.77338899],\n",
       "       [1.1406011 , 1.07449777, 0.46368469, 0.75884249],\n",
       "       [1.1406011 , 1.07449777, 0.18653889, 0.19258303],\n",
       "       [1.1406011 , 1.07449777, 1.34157739, 0.67346085],\n",
       "       [1.1406011 , 1.07449777, 0.35938313, 0.35702174],\n",
       "       [1.1406011 , 1.07449777, 0.17282109, 0.27585648],\n",
       "       [1.1406011 , 1.07449777, 0.2469435 , 0.02392794],\n",
       "       [1.1406011 , 1.07449777, 0.05210448, 0.55898621],\n",
       "       [1.1406011 , 1.07449777, 1.18245094, 0.85666244],\n",
       "       [1.1406011 , 1.07449777, 0.06856583, 0.60684209],\n",
       "       [1.1406011 , 1.07449777, 0.20025668, 1.29801172],\n",
       "       [1.1406011 , 1.07449777, 0.94655114, 0.34247524],\n",
       "       [1.1406011 , 1.07449777, 0.27707635, 0.60684209],\n",
       "       [1.1406011 , 1.07449777, 0.15091892, 0.05934551],\n",
       "       [1.1406011 , 1.07449777, 1.30591112, 1.52285003],\n",
       "       [1.1406011 , 1.07449777, 1.01788369, 0.02392794],\n",
       "       [1.1406011 , 1.07449777, 1.24280925, 0.89829916],\n",
       "       [1.1406011 , 1.07449777, 0.42522855, 1.02320934],\n",
       "       [1.1406011 , 1.07449777, 0.02197163, 0.64847881],\n",
       "       [1.1406011 , 1.07449777, 0.00546397, 0.9982273 ],\n",
       "       [1.1406011 , 0.93066736, 1.5500879 , 2.17238294],\n",
       "       [1.1406011 , 0.93066736, 0.6584311 , 0.3320397 ],\n",
       "       [1.1406011 , 0.93066736, 0.18932875, 0.55898621],\n",
       "       [1.1406011 , 0.93066736, 1.2867062 , 0.38200377],\n",
       "       [1.1406011 , 0.93066736, 0.76817348, 0.65680616],\n",
       "       [1.1406011 , 0.93066736, 1.7393935 , 1.60612348],\n",
       "       [1.1406011 , 0.93066736, 0.1454318 , 0.60062293],\n",
       "       [1.1406011 , 0.93066736, 0.21397448, 0.27374829],\n",
       "       [1.1406011 , 0.93066736, 2.36218148, 1.72270631],\n",
       "       [1.1406011 , 0.93066736, 1.58026705, 1.35630313],\n",
       "       [1.1406011 , 0.93066736, 0.79560907, 0.52356864],\n",
       "       [1.1406011 , 0.93066736, 0.38681872, 0.35702174],\n",
       "       [1.1406011 , 0.93066736, 0.92455636, 0.52356864],\n",
       "       [1.1406011 , 0.93066736, 0.75171212, 1.56448676],\n",
       "       [1.1406011 , 0.93066736, 1.11386196, 0.39865846],\n",
       "       [1.1406011 , 0.93066736, 0.97942755, 1.48121331],\n",
       "       [1.1406011 , 0.93066736, 0.59537554, 1.01699018],\n",
       "       [1.1406011 , 0.93066736, 1.55557502, 1.10648279],\n",
       "       [1.1406011 , 0.93066736, 0.1591496 , 0.18425568],\n",
       "       [1.1406011 , 0.93066736, 0.63648263, 0.52356864],\n",
       "       [1.1406011 , 0.93066736, 0.99044809, 0.10930958],\n",
       "       [1.1406011 , 0.93066736, 0.86694161, 0.89829916],\n",
       "       [1.1406011 , 0.93066736, 2.50759013, 2.73031505],\n",
       "       [1.1406011 , 0.93066736, 1.91223774, 1.77267038],\n",
       "       [1.1406011 , 0.93066736, 0.14812905, 0.30916586],\n",
       "       [1.1406011 , 0.93066736, 1.90675062, 1.85594383],\n",
       "       [1.1406011 , 0.93066736, 1.76957265, 1.27302968],\n",
       "       [1.1406011 , 0.93066736, 0.1316677 , 0.27374829],\n",
       "       [1.1406011 , 0.93066736, 1.31139823, 0.48193191],\n",
       "       [1.1406011 , 0.93066736, 1.06447789, 0.85666244],\n",
       "       [1.1406011 , 0.93066736, 1.2729884 , 0.87331713],\n",
       "       [1.1406011 , 0.93066736, 1.00411958, 1.17310154],\n",
       "       [1.1406011 , 0.93066736, 0.6721489 , 1.27302968],\n",
       "       [1.1406011 , 0.93066736, 0.69409737, 0.81502571],\n",
       "       [1.1406011 , 0.93066736, 2.11251758, 2.25565639],\n",
       "       [1.1406011 , 0.93066736, 0.29084045, 0.02392794],\n",
       "       [1.1406011 , 0.93066736, 0.42522855, 1.497868  ],\n",
       "       [1.1406011 , 0.93066736, 0.03568942, 1.04197221],\n",
       "       [1.1406011 , 0.93066736, 0.22499502, 0.14261896],\n",
       "       [1.1406011 , 0.93066736, 0.96022263, 0.30705767],\n",
       "       [1.1406011 , 0.93066736, 1.563852  , 0.80880656],\n",
       "       [1.1406011 , 0.93066736, 0.27712265, 0.55898621],\n",
       "       [1.1406011 , 0.93066736, 1.14129755, 1.85594383],\n",
       "       [1.1406011 , 0.93066736, 0.13994468, 0.55898621],\n",
       "       [1.1406011 , 0.93066736, 0.19207231, 0.52356864],\n",
       "       [1.1406011 , 0.93066736, 1.15227179, 1.43957658],\n",
       "       [1.1406011 , 0.93066736, 0.6584311 , 0.56520536],\n",
       "       [1.1406011 , 0.93066736, 1.10014416, 1.48954065],\n",
       "       [1.1406011 , 0.93066736, 0.77366059, 0.93993589],\n",
       "       [1.1406011 , 0.93066736, 0.66666178, 1.35630313]])"
      ]
     },
     "execution_count": 25,
     "metadata": {},
     "output_type": "execute_result"
    }
   ],
   "source": [
    "z=abs(zscore(df))\n",
    "z\n",
    "      "
   ]
  },
  {
   "cell_type": "code",
   "execution_count": 27,
   "metadata": {},
   "outputs": [
    {
     "name": "stdout",
     "output_type": "stream",
     "text": [
      "(array([24], dtype=int64), array([2], dtype=int64))\n"
     ]
    }
   ],
   "source": [
    "threshold=3\n",
    "print(np.where(z>3))"
   ]
  },
  {
   "cell_type": "code",
   "execution_count": 28,
   "metadata": {},
   "outputs": [
    {
     "data": {
      "text/plain": [
       "3.0536047510297246"
      ]
     },
     "execution_count": 28,
     "metadata": {},
     "output_type": "execute_result"
    }
   ],
   "source": [
    "z[24][2]"
   ]
  },
  {
   "cell_type": "code",
   "execution_count": 30,
   "metadata": {},
   "outputs": [
    {
     "data": {
      "text/html": [
       "<div>\n",
       "<style scoped>\n",
       "    .dataframe tbody tr th:only-of-type {\n",
       "        vertical-align: middle;\n",
       "    }\n",
       "\n",
       "    .dataframe tbody tr th {\n",
       "        vertical-align: top;\n",
       "    }\n",
       "\n",
       "    .dataframe thead th {\n",
       "        text-align: right;\n",
       "    }\n",
       "</style>\n",
       "<table border=\"1\" class=\"dataframe\">\n",
       "  <thead>\n",
       "    <tr style=\"text-align: right;\">\n",
       "      <th></th>\n",
       "      <th>Gender</th>\n",
       "      <th>AgeRange</th>\n",
       "      <th>HeadSize</th>\n",
       "      <th>BrainWeight</th>\n",
       "    </tr>\n",
       "  </thead>\n",
       "  <tbody>\n",
       "    <tr>\n",
       "      <th>0</th>\n",
       "      <td>1</td>\n",
       "      <td>1</td>\n",
       "      <td>4512</td>\n",
       "      <td>1530</td>\n",
       "    </tr>\n",
       "    <tr>\n",
       "      <th>1</th>\n",
       "      <td>1</td>\n",
       "      <td>1</td>\n",
       "      <td>3738</td>\n",
       "      <td>1297</td>\n",
       "    </tr>\n",
       "    <tr>\n",
       "      <th>2</th>\n",
       "      <td>1</td>\n",
       "      <td>1</td>\n",
       "      <td>4261</td>\n",
       "      <td>1335</td>\n",
       "    </tr>\n",
       "    <tr>\n",
       "      <th>3</th>\n",
       "      <td>1</td>\n",
       "      <td>1</td>\n",
       "      <td>3777</td>\n",
       "      <td>1282</td>\n",
       "    </tr>\n",
       "    <tr>\n",
       "      <th>4</th>\n",
       "      <td>1</td>\n",
       "      <td>1</td>\n",
       "      <td>4177</td>\n",
       "      <td>1590</td>\n",
       "    </tr>\n",
       "    <tr>\n",
       "      <th>...</th>\n",
       "      <td>...</td>\n",
       "      <td>...</td>\n",
       "      <td>...</td>\n",
       "      <td>...</td>\n",
       "    </tr>\n",
       "    <tr>\n",
       "      <th>232</th>\n",
       "      <td>2</td>\n",
       "      <td>2</td>\n",
       "      <td>3214</td>\n",
       "      <td>1110</td>\n",
       "    </tr>\n",
       "    <tr>\n",
       "      <th>233</th>\n",
       "      <td>2</td>\n",
       "      <td>2</td>\n",
       "      <td>3394</td>\n",
       "      <td>1215</td>\n",
       "    </tr>\n",
       "    <tr>\n",
       "      <th>234</th>\n",
       "      <td>2</td>\n",
       "      <td>2</td>\n",
       "      <td>3233</td>\n",
       "      <td>1104</td>\n",
       "    </tr>\n",
       "    <tr>\n",
       "      <th>235</th>\n",
       "      <td>2</td>\n",
       "      <td>2</td>\n",
       "      <td>3352</td>\n",
       "      <td>1170</td>\n",
       "    </tr>\n",
       "    <tr>\n",
       "      <th>236</th>\n",
       "      <td>2</td>\n",
       "      <td>2</td>\n",
       "      <td>3391</td>\n",
       "      <td>1120</td>\n",
       "    </tr>\n",
       "  </tbody>\n",
       "</table>\n",
       "<p>236 rows × 4 columns</p>\n",
       "</div>"
      ],
      "text/plain": [
       "     Gender  AgeRange  HeadSize  BrainWeight\n",
       "0         1         1      4512         1530\n",
       "1         1         1      3738         1297\n",
       "2         1         1      4261         1335\n",
       "3         1         1      3777         1282\n",
       "4         1         1      4177         1590\n",
       "..      ...       ...       ...          ...\n",
       "232       2         2      3214         1110\n",
       "233       2         2      3394         1215\n",
       "234       2         2      3233         1104\n",
       "235       2         2      3352         1170\n",
       "236       2         2      3391         1120\n",
       "\n",
       "[236 rows x 4 columns]"
      ]
     },
     "execution_count": 30,
     "metadata": {},
     "output_type": "execute_result"
    }
   ],
   "source": [
    "df_new=df[(z<3).all(axis=1)]\n",
    "df_new"
   ]
  },
  {
   "cell_type": "code",
   "execution_count": 31,
   "metadata": {},
   "outputs": [
    {
     "data": {
      "text/plain": [
       "(237, 4)"
      ]
     },
     "execution_count": 31,
     "metadata": {},
     "output_type": "execute_result"
    }
   ],
   "source": [
    "df.shape"
   ]
  },
  {
   "cell_type": "code",
   "execution_count": 32,
   "metadata": {},
   "outputs": [
    {
     "data": {
      "text/plain": [
       "(236, 4)"
      ]
     },
     "execution_count": 32,
     "metadata": {},
     "output_type": "execute_result"
    }
   ],
   "source": [
    "df_new.shape"
   ]
  },
  {
   "cell_type": "code",
   "execution_count": 36,
   "metadata": {},
   "outputs": [
    {
     "data": {
      "text/plain": [
       "[]"
      ]
     },
     "execution_count": 36,
     "metadata": {},
     "output_type": "execute_result"
    },
    {
     "data": {
      "image/png": "[encoded data removed]",
      "text/plain": [
       "<Figure size 432x288 with 1 Axes>"
      ]
     },
     "metadata": {
      "needs_background": "light"
     },
     "output_type": "display_data"
    }
   ],
   "source": [
    "sns.lineplot(x=df_new['HeadSize'],y=df_new['BrainWeight'],data=df_new)\n",
    "plt.plot()"
   ]
  },
  {
   "cell_type": "code",
   "execution_count": 39,
   "metadata": {},
   "outputs": [
    {
     "data": {
      "image/png": "[encoded data removed]",
      "text/plain": [
       "<Figure size 432x288 with 1 Axes>"
      ]
     },
     "metadata": {
      "needs_background": "light"
     },
     "output_type": "display_data"
    }
   ],
   "source": [
    "# To check if the data is normally distributed or not\n",
    "plt.hist(x='BrainWeight',data=df_new, bins=20)\n",
    "plt.show()"
   ]
  },
  {
   "cell_type": "code",
   "execution_count": 40,
   "metadata": {},
   "outputs": [
    {
     "data": {
      "text/plain": [
       "Gender         0.257959\n",
       "AgeRange      -0.153968\n",
       "HeadSize       0.164767\n",
       "BrainWeight    0.205274\n",
       "dtype: float64"
      ]
     },
     "execution_count": 40,
     "metadata": {},
     "output_type": "execute_result"
    }
   ],
   "source": [
    "df_new.skew()"
   ]
  },
  {
   "cell_type": "code",
   "execution_count": 41,
   "metadata": {},
   "outputs": [],
   "source": [
    "# From here we can see that the following are the acceptable level of Skewness as it is less than (+/-) 0.5"
   ]
  },
  {
   "cell_type": "code",
   "execution_count": 42,
   "metadata": {},
   "outputs": [],
   "source": [
    "#Let's put the model into machine learning"
   ]
  },
  {
   "cell_type": "code",
   "execution_count": 43,
   "metadata": {},
   "outputs": [
    {
     "data": {
      "text/html": [
       "<div>\n",
       "<style scoped>\n",
       "    .dataframe tbody tr th:only-of-type {\n",
       "        vertical-align: middle;\n",
       "    }\n",
       "\n",
       "    .dataframe tbody tr th {\n",
       "        vertical-align: top;\n",
       "    }\n",
       "\n",
       "    .dataframe thead th {\n",
       "        text-align: right;\n",
       "    }\n",
       "</style>\n",
       "<table border=\"1\" class=\"dataframe\">\n",
       "  <thead>\n",
       "    <tr style=\"text-align: right;\">\n",
       "      <th></th>\n",
       "      <th>Gender</th>\n",
       "      <th>AgeRange</th>\n",
       "      <th>HeadSize</th>\n",
       "    </tr>\n",
       "  </thead>\n",
       "  <tbody>\n",
       "    <tr>\n",
       "      <th>0</th>\n",
       "      <td>1</td>\n",
       "      <td>1</td>\n",
       "      <td>4512</td>\n",
       "    </tr>\n",
       "    <tr>\n",
       "      <th>1</th>\n",
       "      <td>1</td>\n",
       "      <td>1</td>\n",
       "      <td>3738</td>\n",
       "    </tr>\n",
       "    <tr>\n",
       "      <th>2</th>\n",
       "      <td>1</td>\n",
       "      <td>1</td>\n",
       "      <td>4261</td>\n",
       "    </tr>\n",
       "    <tr>\n",
       "      <th>3</th>\n",
       "      <td>1</td>\n",
       "      <td>1</td>\n",
       "      <td>3777</td>\n",
       "    </tr>\n",
       "    <tr>\n",
       "      <th>4</th>\n",
       "      <td>1</td>\n",
       "      <td>1</td>\n",
       "      <td>4177</td>\n",
       "    </tr>\n",
       "    <tr>\n",
       "      <th>...</th>\n",
       "      <td>...</td>\n",
       "      <td>...</td>\n",
       "      <td>...</td>\n",
       "    </tr>\n",
       "    <tr>\n",
       "      <th>232</th>\n",
       "      <td>2</td>\n",
       "      <td>2</td>\n",
       "      <td>3214</td>\n",
       "    </tr>\n",
       "    <tr>\n",
       "      <th>233</th>\n",
       "      <td>2</td>\n",
       "      <td>2</td>\n",
       "      <td>3394</td>\n",
       "    </tr>\n",
       "    <tr>\n",
       "      <th>234</th>\n",
       "      <td>2</td>\n",
       "      <td>2</td>\n",
       "      <td>3233</td>\n",
       "    </tr>\n",
       "    <tr>\n",
       "      <th>235</th>\n",
       "      <td>2</td>\n",
       "      <td>2</td>\n",
       "      <td>3352</td>\n",
       "    </tr>\n",
       "    <tr>\n",
       "      <th>236</th>\n",
       "      <td>2</td>\n",
       "      <td>2</td>\n",
       "      <td>3391</td>\n",
       "    </tr>\n",
       "  </tbody>\n",
       "</table>\n",
       "<p>236 rows × 3 columns</p>\n",
       "</div>"
      ],
      "text/plain": [
       "     Gender  AgeRange  HeadSize\n",
       "0         1         1      4512\n",
       "1         1         1      3738\n",
       "2         1         1      4261\n",
       "3         1         1      3777\n",
       "4         1         1      4177\n",
       "..      ...       ...       ...\n",
       "232       2         2      3214\n",
       "233       2         2      3394\n",
       "234       2         2      3233\n",
       "235       2         2      3352\n",
       "236       2         2      3391\n",
       "\n",
       "[236 rows x 3 columns]"
      ]
     },
     "execution_count": 43,
     "metadata": {},
     "output_type": "execute_result"
    }
   ],
   "source": [
    "x=df_new.iloc[:,0:-1]\n",
    "x"
   ]
  },
  {
   "cell_type": "code",
   "execution_count": 45,
   "metadata": {},
   "outputs": [
    {
     "name": "stdout",
     "output_type": "stream",
     "text": [
      "0      1530\n",
      "1      1297\n",
      "2      1335\n",
      "3      1282\n",
      "4      1590\n",
      "       ... \n",
      "232    1110\n",
      "233    1215\n",
      "234    1104\n",
      "235    1170\n",
      "236    1120\n",
      "Name: BrainWeight, Length: 236, dtype: int64\n"
     ]
    }
   ],
   "source": [
    "y=df_new.iloc[:,-1]\n",
    "print(y)"
   ]
  },
  {
   "cell_type": "code",
   "execution_count": 46,
   "metadata": {},
   "outputs": [],
   "source": [
    "from sklearn.metrics import mean_absolute_error\n",
    "from sklearn.metrics import mean_squared_error\n",
    "from sklearn.model_selection import train_test_split\n",
    "from sklearn.linear_model  import LinearRegression\n",
    "from sklearn.metrics import r2_score"
   ]
  },
  {
   "cell_type": "code",
   "execution_count": 47,
   "metadata": {},
   "outputs": [],
   "source": [
    "x_train,x_test,y_train,y_test=train_test_split(x,y,test_size=0.20,random_state=42)"
   ]
  },
  {
   "cell_type": "code",
   "execution_count": 48,
   "metadata": {},
   "outputs": [
    {
     "data": {
      "text/plain": [
       "(188, 3)"
      ]
     },
     "execution_count": 48,
     "metadata": {},
     "output_type": "execute_result"
    }
   ],
   "source": [
    "x_train.shape"
   ]
  },
  {
   "cell_type": "code",
   "execution_count": 49,
   "metadata": {},
   "outputs": [
    {
     "data": {
      "text/plain": [
       "(48, 3)"
      ]
     },
     "execution_count": 49,
     "metadata": {},
     "output_type": "execute_result"
    }
   ],
   "source": [
    "x_test.shape"
   ]
  },
  {
   "cell_type": "code",
   "execution_count": 50,
   "metadata": {},
   "outputs": [],
   "source": [
    "lreg=LinearRegression()"
   ]
  },
  {
   "cell_type": "code",
   "execution_count": 51,
   "metadata": {},
   "outputs": [
    {
     "data": {
      "text/plain": [
       "LinearRegression(copy_X=True, fit_intercept=True, n_jobs=None, normalize=False)"
      ]
     },
     "execution_count": 51,
     "metadata": {},
     "output_type": "execute_result"
    }
   ],
   "source": [
    "lreg.fit(x_train,y_train)"
   ]
  },
  {
   "cell_type": "code",
   "execution_count": 52,
   "metadata": {},
   "outputs": [
    {
     "data": {
      "text/plain": [
       "0.656896057117791"
      ]
     },
     "execution_count": 52,
     "metadata": {},
     "output_type": "execute_result"
    }
   ],
   "source": [
    "lreg.score(x_train,y_train)"
   ]
  },
  {
   "cell_type": "code",
   "execution_count": 53,
   "metadata": {},
   "outputs": [
    {
     "data": {
      "text/plain": [
       "array([-19.75332048, -18.12236322,   0.24968657])"
      ]
     },
     "execution_count": 53,
     "metadata": {},
     "output_type": "execute_result"
    }
   ],
   "source": [
    "lreg.coef_"
   ]
  },
  {
   "cell_type": "code",
   "execution_count": 54,
   "metadata": {},
   "outputs": [
    {
     "data": {
      "text/plain": [
       "428.4287123379339"
      ]
     },
     "execution_count": 54,
     "metadata": {},
     "output_type": "execute_result"
    }
   ],
   "source": [
    "lreg.intercept_"
   ]
  },
  {
   "cell_type": "code",
   "execution_count": 55,
   "metadata": {},
   "outputs": [],
   "source": [
    "predlreg=lreg.predict(x_test)"
   ]
  },
  {
   "cell_type": "code",
   "execution_count": 57,
   "metadata": {},
   "outputs": [
    {
     "name": "stdout",
     "output_type": "stream",
     "text": [
      "r2-Score = 0.5517413115744891\n"
     ]
    }
   ],
   "source": [
    "print('r2-Score =',r2_score(y_test,predlreg))"
   ]
  },
  {
   "cell_type": "code",
   "execution_count": 59,
   "metadata": {},
   "outputs": [
    {
     "name": "stdout",
     "output_type": "stream",
     "text": [
      "60.52859607440002\n",
      "5473.805134851136\n",
      "73.98516834373721\n"
     ]
    }
   ],
   "source": [
    "print(mean_absolute_error(y_test,predlreg))\n",
    "print(mean_squared_error(y_test,predlreg))\n",
    "print(np.sqrt(mean_squared_error(y_test,predlreg)))"
   ]
  },
  {
   "cell_type": "code",
   "execution_count": 60,
   "metadata": {},
   "outputs": [],
   "source": [
    "# Another way of doing it by finding out the maximum r2_Score on which Random_state"
   ]
  },
  {
   "cell_type": "code",
   "execution_count": 61,
   "metadata": {},
   "outputs": [],
   "source": [
    "from sklearn import linear_model"
   ]
  },
  {
   "cell_type": "code",
   "execution_count": 62,
   "metadata": {},
   "outputs": [
    {
     "name": "stdout",
     "output_type": "stream",
     "text": [
      "r2-Score corrsponding to the random state: 42 is 0.5517413115744891\n",
      "r2-Score corrsponding to the random state: 43 is 0.7291347307495906\n",
      "r2-Score corrsponding to the random state: 44 is 0.49695766680419406\n",
      "r2-Score corrsponding to the random state: 45 is 0.7288615401697152\n",
      "r2-Score corrsponding to the random state: 46 is 0.6537383468570102\n",
      "r2-Score corrsponding to the random state: 47 is 0.6609132602849963\n",
      "r2-Score corrsponding to the random state: 48 is 0.6587228535982634\n",
      "r2-Score corrsponding to the random state: 49 is 0.7842024913660873\n",
      "r2-Score corrsponding to the random state: 50 is 0.610687148664592\n",
      "r2-Score corrsponding to the random state: 51 is 0.4821494511001966\n",
      "r2-Score corrsponding to the random state: 52 is 0.7612363770175413\n",
      "r2-Score corrsponding to the random state: 53 is 0.6361246553145521\n",
      "r2-Score corrsponding to the random state: 54 is 0.6018287128351834\n",
      "r2-Score corrsponding to the random state: 55 is 0.6836469263776774\n",
      "r2-Score corrsponding to the random state: 56 is 0.5752711449478864\n",
      "r2-Score corrsponding to the random state: 57 is 0.4485381331454803\n",
      "r2-Score corrsponding to the random state: 58 is 0.6879467858112942\n",
      "r2-Score corrsponding to the random state: 59 is 0.6006507589209892\n",
      "r2-Score corrsponding to the random state: 60 is 0.7591545290899899\n",
      "r2-Score corrsponding to the random state: 61 is 0.6453384119054675\n",
      "r2-Score corrsponding to the random state: 62 is 0.6667263240529766\n",
      "r2-Score corrsponding to the random state: 63 is 0.6280410585405867\n",
      "r2-Score corrsponding to the random state: 64 is 0.688839679681686\n",
      "r2-Score corrsponding to the random state: 65 is 0.6220789387028818\n",
      "r2-Score corrsponding to the random state: 66 is 0.48857427684069155\n",
      "r2-Score corrsponding to the random state: 67 is 0.5998218647697691\n",
      "r2-Score corrsponding to the random state: 68 is 0.710695840930188\n",
      "r2-Score corrsponding to the random state: 69 is 0.6648045479168988\n",
      "r2-Score corrsponding to the random state: 70 is 0.6788260166214549\n",
      "r2-Score corrsponding to the random state: 71 is 0.7042540911188279\n",
      "r2-Score corrsponding to the random state: 72 is 0.5635658738188949\n",
      "r2-Score corrsponding to the random state: 73 is 0.606115773407747\n",
      "r2-Score corrsponding to the random state: 74 is 0.642806183572437\n",
      "r2-Score corrsponding to the random state: 75 is 0.44810851653770634\n",
      "r2-Score corrsponding to the random state: 76 is 0.6403899985899633\n",
      "r2-Score corrsponding to the random state: 77 is 0.6765610288205641\n",
      "r2-Score corrsponding to the random state: 78 is 0.5511710827253847\n",
      "r2-Score corrsponding to the random state: 79 is 0.5343345450082051\n",
      "r2-Score corrsponding to the random state: 80 is 0.49693245617455206\n",
      "r2-Score corrsponding to the random state: 81 is 0.6598260671046154\n",
      "r2-Score corrsponding to the random state: 82 is 0.7484685924909145\n",
      "r2-Score corrsponding to the random state: 83 is 0.5789909649716456\n",
      "r2-Score corrsponding to the random state: 84 is 0.5739480918934374\n",
      "r2-Score corrsponding to the random state: 85 is 0.5474303262012539\n",
      "r2-Score corrsponding to the random state: 86 is 0.5057414650558429\n",
      "r2-Score corrsponding to the random state: 87 is 0.5719105553269832\n",
      "r2-Score corrsponding to the random state: 88 is 0.5799646919718549\n",
      "r2-Score corrsponding to the random state: 89 is 0.5334038124465836\n",
      "r2-Score corrsponding to the random state: 90 is 0.786072313953935\n",
      "r2-Score corrsponding to the random state: 91 is 0.6116697697093194\n",
      "r2-Score corrsponding to the random state: 92 is 0.7580070299154236\n",
      "r2-Score corrsponding to the random state: 93 is 0.692487928590821\n",
      "r2-Score corrsponding to the random state: 94 is 0.714545130863447\n",
      "r2-Score corrsponding to the random state: 95 is 0.5328197242138016\n",
      "r2-Score corrsponding to the random state: 96 is 0.7640523744004228\n",
      "r2-Score corrsponding to the random state: 97 is 0.5975199968863685\n",
      "r2-Score corrsponding to the random state: 98 is 0.6649505150590944\n",
      "r2-Score corrsponding to the random state: 99 is 0.7043262659405753\n",
      "r2-Score corrsponding to the random state: 100 is 0.6085010959828558\n",
      "\n",
      "Max r2 score corresponiding to the the 90 is 0.786072313953935\n"
     ]
    }
   ],
   "source": [
    "max_r_score=0\n",
    "for r_state in range(42,101):\n",
    "    x_train,x_test,y_train,y_test=train_test_split(x,y,test_size=.20,random_state=r_state)\n",
    "    lreg.fit(x_train,y_train)\n",
    "    predlreg=lreg.predict(x_test)\n",
    "    r2score=r2_score(y_test,predlreg)\n",
    "    print('r2-Score corrsponding to the random state:', r_state,'is',r2score)\n",
    "    if(r2score>max_r_score):\n",
    "        max_r_score=r2score\n",
    "        final_r_state=r_state\n",
    "print()\n",
    "print('Max r2 score corresponiding to the the', final_r_state,'is',max_r_score)"
   ]
  },
  {
   "cell_type": "code",
   "execution_count": 63,
   "metadata": {},
   "outputs": [],
   "source": [
    "x_train,x_test,y_train,y_test=train_test_split(x,y,test_size=0.20,random_state=90)"
   ]
  },
  {
   "cell_type": "code",
   "execution_count": 67,
   "metadata": {},
   "outputs": [
    {
     "data": {
      "text/plain": [
       "0.6018585516735373"
      ]
     },
     "execution_count": 67,
     "metadata": {},
     "output_type": "execute_result"
    }
   ],
   "source": [
    "lreg.fit(x_train,y_train)\n",
    "lreg.score(x_train,y_train)"
   ]
  },
  {
   "cell_type": "code",
   "execution_count": 68,
   "metadata": {},
   "outputs": [],
   "source": [
    "predlreg=lreg.predict(x_test)"
   ]
  },
  {
   "cell_type": "code",
   "execution_count": 69,
   "metadata": {},
   "outputs": [
    {
     "name": "stdout",
     "output_type": "stream",
     "text": [
      "54.54658243986817\n"
     ]
    }
   ],
   "source": [
    "print(np.sqrt(mean_squared_error(y_test,predlreg)))"
   ]
  },
  {
   "cell_type": "code",
   "execution_count": 70,
   "metadata": {},
   "outputs": [
    {
     "name": "stdout",
     "output_type": "stream",
     "text": [
      "0.786072313953935\n"
     ]
    }
   ],
   "source": [
    "print(r2_score(y_test,predlreg))"
   ]
  },
  {
   "cell_type": "code",
   "execution_count": 72,
   "metadata": {},
   "outputs": [],
   "source": [
    "# How to save the model by using joblib library\n",
    "from sklearn.externals import joblib"
   ]
  },
  {
   "cell_type": "code",
   "execution_count": 73,
   "metadata": {},
   "outputs": [
    {
     "data": {
      "text/plain": [
       "['lreg.headbrain.pkl']"
      ]
     },
     "execution_count": 73,
     "metadata": {},
     "output_type": "execute_result"
    }
   ],
   "source": [
    "joblib.dump(lreg,'lreg.headbrain.pkl')"
   ]
  },
  {
   "cell_type": "code",
   "execution_count": null,
   "metadata": {},
   "outputs": [],
   "source": []
  }
 ],
 "metadata": {
  "kernelspec": {
   "display_name": "Python 3",
   "language": "python",
   "name": "python3"
  },
  "language_info": {
   "codemirror_mode": {
    "name": "ipython",
    "version": 3
   },
   "file_extension": ".py",
   "mimetype": "text/x-python",
   "name": "python",
   "nbconvert_exporter": "python",
   "pygments_lexer": "ipython3",
   "version": "3.7.6"
  }
 },
 "nbformat": 4,
 "nbformat_minor": 4
}
