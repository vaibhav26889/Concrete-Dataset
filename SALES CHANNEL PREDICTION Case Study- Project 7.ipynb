{
 "cells": [
  {
   "cell_type": "code",
   "execution_count": 1,
   "metadata": {},
   "outputs": [],
   "source": [
    "import numpy as np\n",
    "import pandas as pd\n",
    "import matplotlib.pyplot as plt\n",
    "import seaborn as sns\n",
    "import warnings\n",
    "warnings.filterwarnings('ignore')"
   ]
  },
  {
   "cell_type": "code",
   "execution_count": 2,
   "metadata": {},
   "outputs": [
    {
     "data": {
      "text/html": [
       "<div>\n",
       "<style scoped>\n",
       "    .dataframe tbody tr th:only-of-type {\n",
       "        vertical-align: middle;\n",
       "    }\n",
       "\n",
       "    .dataframe tbody tr th {\n",
       "        vertical-align: top;\n",
       "    }\n",
       "\n",
       "    .dataframe thead th {\n",
       "        text-align: right;\n",
       "    }\n",
       "</style>\n",
       "<table border=\"1\" class=\"dataframe\">\n",
       "  <thead>\n",
       "    <tr style=\"text-align: right;\">\n",
       "      <th></th>\n",
       "      <th>Unnamed: 0</th>\n",
       "      <th>TV</th>\n",
       "      <th>radio</th>\n",
       "      <th>newspaper</th>\n",
       "      <th>sales</th>\n",
       "    </tr>\n",
       "  </thead>\n",
       "  <tbody>\n",
       "    <tr>\n",
       "      <th>0</th>\n",
       "      <td>1</td>\n",
       "      <td>230.1</td>\n",
       "      <td>37.8</td>\n",
       "      <td>69.2</td>\n",
       "      <td>22.1</td>\n",
       "    </tr>\n",
       "    <tr>\n",
       "      <th>1</th>\n",
       "      <td>2</td>\n",
       "      <td>44.5</td>\n",
       "      <td>39.3</td>\n",
       "      <td>45.1</td>\n",
       "      <td>10.4</td>\n",
       "    </tr>\n",
       "    <tr>\n",
       "      <th>2</th>\n",
       "      <td>3</td>\n",
       "      <td>17.2</td>\n",
       "      <td>45.9</td>\n",
       "      <td>69.3</td>\n",
       "      <td>9.3</td>\n",
       "    </tr>\n",
       "    <tr>\n",
       "      <th>3</th>\n",
       "      <td>4</td>\n",
       "      <td>151.5</td>\n",
       "      <td>41.3</td>\n",
       "      <td>58.5</td>\n",
       "      <td>18.5</td>\n",
       "    </tr>\n",
       "    <tr>\n",
       "      <th>4</th>\n",
       "      <td>5</td>\n",
       "      <td>180.8</td>\n",
       "      <td>10.8</td>\n",
       "      <td>58.4</td>\n",
       "      <td>12.9</td>\n",
       "    </tr>\n",
       "    <tr>\n",
       "      <th>...</th>\n",
       "      <td>...</td>\n",
       "      <td>...</td>\n",
       "      <td>...</td>\n",
       "      <td>...</td>\n",
       "      <td>...</td>\n",
       "    </tr>\n",
       "    <tr>\n",
       "      <th>195</th>\n",
       "      <td>196</td>\n",
       "      <td>38.2</td>\n",
       "      <td>3.7</td>\n",
       "      <td>13.8</td>\n",
       "      <td>7.6</td>\n",
       "    </tr>\n",
       "    <tr>\n",
       "      <th>196</th>\n",
       "      <td>197</td>\n",
       "      <td>94.2</td>\n",
       "      <td>4.9</td>\n",
       "      <td>8.1</td>\n",
       "      <td>9.7</td>\n",
       "    </tr>\n",
       "    <tr>\n",
       "      <th>197</th>\n",
       "      <td>198</td>\n",
       "      <td>177.0</td>\n",
       "      <td>9.3</td>\n",
       "      <td>6.4</td>\n",
       "      <td>12.8</td>\n",
       "    </tr>\n",
       "    <tr>\n",
       "      <th>198</th>\n",
       "      <td>199</td>\n",
       "      <td>283.6</td>\n",
       "      <td>42.0</td>\n",
       "      <td>66.2</td>\n",
       "      <td>25.5</td>\n",
       "    </tr>\n",
       "    <tr>\n",
       "      <th>199</th>\n",
       "      <td>200</td>\n",
       "      <td>232.1</td>\n",
       "      <td>8.6</td>\n",
       "      <td>8.7</td>\n",
       "      <td>13.4</td>\n",
       "    </tr>\n",
       "  </tbody>\n",
       "</table>\n",
       "<p>200 rows × 5 columns</p>\n",
       "</div>"
      ],
      "text/plain": [
       "     Unnamed: 0     TV  radio  newspaper  sales\n",
       "0             1  230.1   37.8       69.2   22.1\n",
       "1             2   44.5   39.3       45.1   10.4\n",
       "2             3   17.2   45.9       69.3    9.3\n",
       "3             4  151.5   41.3       58.5   18.5\n",
       "4             5  180.8   10.8       58.4   12.9\n",
       "..          ...    ...    ...        ...    ...\n",
       "195         196   38.2    3.7       13.8    7.6\n",
       "196         197   94.2    4.9        8.1    9.7\n",
       "197         198  177.0    9.3        6.4   12.8\n",
       "198         199  283.6   42.0       66.2   25.5\n",
       "199         200  232.1    8.6        8.7   13.4\n",
       "\n",
       "[200 rows x 5 columns]"
      ]
     },
     "execution_count": 2,
     "metadata": {},
     "output_type": "execute_result"
    }
   ],
   "source": [
    "df=pd.read_csv(\"advertising.csv\")\n",
    "df"
   ]
  },
  {
   "cell_type": "code",
   "execution_count": 3,
   "metadata": {},
   "outputs": [
    {
     "data": {
      "text/plain": [
       "(200, 5)"
      ]
     },
     "execution_count": 3,
     "metadata": {},
     "output_type": "execute_result"
    }
   ],
   "source": [
    "df.shape"
   ]
  },
  {
   "cell_type": "code",
   "execution_count": 4,
   "metadata": {},
   "outputs": [
    {
     "data": {
      "text/html": [
       "<div>\n",
       "<style scoped>\n",
       "    .dataframe tbody tr th:only-of-type {\n",
       "        vertical-align: middle;\n",
       "    }\n",
       "\n",
       "    .dataframe tbody tr th {\n",
       "        vertical-align: top;\n",
       "    }\n",
       "\n",
       "    .dataframe thead th {\n",
       "        text-align: right;\n",
       "    }\n",
       "</style>\n",
       "<table border=\"1\" class=\"dataframe\">\n",
       "  <thead>\n",
       "    <tr style=\"text-align: right;\">\n",
       "      <th></th>\n",
       "      <th>Unnamed: 0</th>\n",
       "      <th>TV</th>\n",
       "      <th>radio</th>\n",
       "      <th>newspaper</th>\n",
       "      <th>sales</th>\n",
       "    </tr>\n",
       "  </thead>\n",
       "  <tbody>\n",
       "    <tr>\n",
       "      <th>0</th>\n",
       "      <td>False</td>\n",
       "      <td>False</td>\n",
       "      <td>False</td>\n",
       "      <td>False</td>\n",
       "      <td>False</td>\n",
       "    </tr>\n",
       "    <tr>\n",
       "      <th>1</th>\n",
       "      <td>False</td>\n",
       "      <td>False</td>\n",
       "      <td>False</td>\n",
       "      <td>False</td>\n",
       "      <td>False</td>\n",
       "    </tr>\n",
       "    <tr>\n",
       "      <th>2</th>\n",
       "      <td>False</td>\n",
       "      <td>False</td>\n",
       "      <td>False</td>\n",
       "      <td>False</td>\n",
       "      <td>False</td>\n",
       "    </tr>\n",
       "    <tr>\n",
       "      <th>3</th>\n",
       "      <td>False</td>\n",
       "      <td>False</td>\n",
       "      <td>False</td>\n",
       "      <td>False</td>\n",
       "      <td>False</td>\n",
       "    </tr>\n",
       "    <tr>\n",
       "      <th>4</th>\n",
       "      <td>False</td>\n",
       "      <td>False</td>\n",
       "      <td>False</td>\n",
       "      <td>False</td>\n",
       "      <td>False</td>\n",
       "    </tr>\n",
       "    <tr>\n",
       "      <th>...</th>\n",
       "      <td>...</td>\n",
       "      <td>...</td>\n",
       "      <td>...</td>\n",
       "      <td>...</td>\n",
       "      <td>...</td>\n",
       "    </tr>\n",
       "    <tr>\n",
       "      <th>195</th>\n",
       "      <td>False</td>\n",
       "      <td>False</td>\n",
       "      <td>False</td>\n",
       "      <td>False</td>\n",
       "      <td>False</td>\n",
       "    </tr>\n",
       "    <tr>\n",
       "      <th>196</th>\n",
       "      <td>False</td>\n",
       "      <td>False</td>\n",
       "      <td>False</td>\n",
       "      <td>False</td>\n",
       "      <td>False</td>\n",
       "    </tr>\n",
       "    <tr>\n",
       "      <th>197</th>\n",
       "      <td>False</td>\n",
       "      <td>False</td>\n",
       "      <td>False</td>\n",
       "      <td>False</td>\n",
       "      <td>False</td>\n",
       "    </tr>\n",
       "    <tr>\n",
       "      <th>198</th>\n",
       "      <td>False</td>\n",
       "      <td>False</td>\n",
       "      <td>False</td>\n",
       "      <td>False</td>\n",
       "      <td>False</td>\n",
       "    </tr>\n",
       "    <tr>\n",
       "      <th>199</th>\n",
       "      <td>False</td>\n",
       "      <td>False</td>\n",
       "      <td>False</td>\n",
       "      <td>False</td>\n",
       "      <td>False</td>\n",
       "    </tr>\n",
       "  </tbody>\n",
       "</table>\n",
       "<p>200 rows × 5 columns</p>\n",
       "</div>"
      ],
      "text/plain": [
       "     Unnamed: 0     TV  radio  newspaper  sales\n",
       "0         False  False  False      False  False\n",
       "1         False  False  False      False  False\n",
       "2         False  False  False      False  False\n",
       "3         False  False  False      False  False\n",
       "4         False  False  False      False  False\n",
       "..          ...    ...    ...        ...    ...\n",
       "195       False  False  False      False  False\n",
       "196       False  False  False      False  False\n",
       "197       False  False  False      False  False\n",
       "198       False  False  False      False  False\n",
       "199       False  False  False      False  False\n",
       "\n",
       "[200 rows x 5 columns]"
      ]
     },
     "execution_count": 4,
     "metadata": {},
     "output_type": "execute_result"
    }
   ],
   "source": [
    "df.isnull()"
   ]
  },
  {
   "cell_type": "code",
   "execution_count": 5,
   "metadata": {},
   "outputs": [
    {
     "data": {
      "text/plain": [
       "Unnamed: 0    0\n",
       "TV            0\n",
       "radio         0\n",
       "newspaper     0\n",
       "sales         0\n",
       "dtype: int64"
      ]
     },
     "execution_count": 5,
     "metadata": {},
     "output_type": "execute_result"
    }
   ],
   "source": [
    "df.isnull().sum()"
   ]
  },
  {
   "cell_type": "code",
   "execution_count": 7,
   "metadata": {},
   "outputs": [
    {
     "data": {
      "text/plain": [
       "<matplotlib.axes._subplots.AxesSubplot at 0x206056b3f08>"
      ]
     },
     "execution_count": 7,
     "metadata": {},
     "output_type": "execute_result"
    },
    {
     "data": {
      "image/png": "[encoded data removed]",
      "text/plain": [
       "<Figure size 432x288 with 2 Axes>"
      ]
     },
     "metadata": {
      "needs_background": "light"
     },
     "output_type": "display_data"
    }
   ],
   "source": [
    "sns.heatmap(df.isnull())"
   ]
  },
  {
   "cell_type": "code",
   "execution_count": 8,
   "metadata": {},
   "outputs": [
    {
     "data": {
      "text/html": [
       "<div>\n",
       "<style scoped>\n",
       "    .dataframe tbody tr th:only-of-type {\n",
       "        vertical-align: middle;\n",
       "    }\n",
       "\n",
       "    .dataframe tbody tr th {\n",
       "        vertical-align: top;\n",
       "    }\n",
       "\n",
       "    .dataframe thead th {\n",
       "        text-align: right;\n",
       "    }\n",
       "</style>\n",
       "<table border=\"1\" class=\"dataframe\">\n",
       "  <thead>\n",
       "    <tr style=\"text-align: right;\">\n",
       "      <th></th>\n",
       "      <th>Unnamed: 0</th>\n",
       "      <th>TV</th>\n",
       "      <th>radio</th>\n",
       "      <th>newspaper</th>\n",
       "      <th>sales</th>\n",
       "    </tr>\n",
       "  </thead>\n",
       "  <tbody>\n",
       "    <tr>\n",
       "      <th>Unnamed: 0</th>\n",
       "      <td>1.000000</td>\n",
       "      <td>0.017715</td>\n",
       "      <td>-0.110680</td>\n",
       "      <td>-0.154944</td>\n",
       "      <td>-0.051616</td>\n",
       "    </tr>\n",
       "    <tr>\n",
       "      <th>TV</th>\n",
       "      <td>0.017715</td>\n",
       "      <td>1.000000</td>\n",
       "      <td>0.054809</td>\n",
       "      <td>0.056648</td>\n",
       "      <td>0.782224</td>\n",
       "    </tr>\n",
       "    <tr>\n",
       "      <th>radio</th>\n",
       "      <td>-0.110680</td>\n",
       "      <td>0.054809</td>\n",
       "      <td>1.000000</td>\n",
       "      <td>0.354104</td>\n",
       "      <td>0.576223</td>\n",
       "    </tr>\n",
       "    <tr>\n",
       "      <th>newspaper</th>\n",
       "      <td>-0.154944</td>\n",
       "      <td>0.056648</td>\n",
       "      <td>0.354104</td>\n",
       "      <td>1.000000</td>\n",
       "      <td>0.228299</td>\n",
       "    </tr>\n",
       "    <tr>\n",
       "      <th>sales</th>\n",
       "      <td>-0.051616</td>\n",
       "      <td>0.782224</td>\n",
       "      <td>0.576223</td>\n",
       "      <td>0.228299</td>\n",
       "      <td>1.000000</td>\n",
       "    </tr>\n",
       "  </tbody>\n",
       "</table>\n",
       "</div>"
      ],
      "text/plain": [
       "            Unnamed: 0        TV     radio  newspaper     sales\n",
       "Unnamed: 0    1.000000  0.017715 -0.110680  -0.154944 -0.051616\n",
       "TV            0.017715  1.000000  0.054809   0.056648  0.782224\n",
       "radio        -0.110680  0.054809  1.000000   0.354104  0.576223\n",
       "newspaper    -0.154944  0.056648  0.354104   1.000000  0.228299\n",
       "sales        -0.051616  0.782224  0.576223   0.228299  1.000000"
      ]
     },
     "execution_count": 8,
     "metadata": {},
     "output_type": "execute_result"
    }
   ],
   "source": [
    "df.corr()"
   ]
  },
  {
   "cell_type": "code",
   "execution_count": 10,
   "metadata": {},
   "outputs": [
    {
     "data": {
      "text/plain": [
       "<matplotlib.axes._subplots.AxesSubplot at 0x206058f6088>"
      ]
     },
     "execution_count": 10,
     "metadata": {},
     "output_type": "execute_result"
    },
    {
     "data": {
      "image/png": "[encoded data removed]",
      "text/plain": [
       "<Figure size 432x288 with 2 Axes>"
      ]
     },
     "metadata": {
      "needs_background": "light"
     },
     "output_type": "display_data"
    }
   ],
   "source": [
    "sns.heatmap(df.corr(),annot=True)"
   ]
  },
  {
   "cell_type": "code",
   "execution_count": 11,
   "metadata": {},
   "outputs": [
    {
     "data": {
      "text/plain": [
       "Unnamed: 0      int64\n",
       "TV            float64\n",
       "radio         float64\n",
       "newspaper     float64\n",
       "sales         float64\n",
       "dtype: object"
      ]
     },
     "execution_count": 11,
     "metadata": {},
     "output_type": "execute_result"
    }
   ],
   "source": [
    "df.dtypes"
   ]
  },
  {
   "cell_type": "code",
   "execution_count": 12,
   "metadata": {},
   "outputs": [
    {
     "data": {
      "text/html": [
       "<div>\n",
       "<style scoped>\n",
       "    .dataframe tbody tr th:only-of-type {\n",
       "        vertical-align: middle;\n",
       "    }\n",
       "\n",
       "    .dataframe tbody tr th {\n",
       "        vertical-align: top;\n",
       "    }\n",
       "\n",
       "    .dataframe thead th {\n",
       "        text-align: right;\n",
       "    }\n",
       "</style>\n",
       "<table border=\"1\" class=\"dataframe\">\n",
       "  <thead>\n",
       "    <tr style=\"text-align: right;\">\n",
       "      <th></th>\n",
       "      <th>Unnamed: 0</th>\n",
       "      <th>TV</th>\n",
       "      <th>radio</th>\n",
       "      <th>newspaper</th>\n",
       "      <th>sales</th>\n",
       "    </tr>\n",
       "  </thead>\n",
       "  <tbody>\n",
       "    <tr>\n",
       "      <th>count</th>\n",
       "      <td>200.000000</td>\n",
       "      <td>200.000000</td>\n",
       "      <td>200.000000</td>\n",
       "      <td>200.000000</td>\n",
       "      <td>200.000000</td>\n",
       "    </tr>\n",
       "    <tr>\n",
       "      <th>mean</th>\n",
       "      <td>100.500000</td>\n",
       "      <td>147.042500</td>\n",
       "      <td>23.264000</td>\n",
       "      <td>30.554000</td>\n",
       "      <td>14.022500</td>\n",
       "    </tr>\n",
       "    <tr>\n",
       "      <th>std</th>\n",
       "      <td>57.879185</td>\n",
       "      <td>85.854236</td>\n",
       "      <td>14.846809</td>\n",
       "      <td>21.778621</td>\n",
       "      <td>5.217457</td>\n",
       "    </tr>\n",
       "    <tr>\n",
       "      <th>min</th>\n",
       "      <td>1.000000</td>\n",
       "      <td>0.700000</td>\n",
       "      <td>0.000000</td>\n",
       "      <td>0.300000</td>\n",
       "      <td>1.600000</td>\n",
       "    </tr>\n",
       "    <tr>\n",
       "      <th>25%</th>\n",
       "      <td>50.750000</td>\n",
       "      <td>74.375000</td>\n",
       "      <td>9.975000</td>\n",
       "      <td>12.750000</td>\n",
       "      <td>10.375000</td>\n",
       "    </tr>\n",
       "    <tr>\n",
       "      <th>50%</th>\n",
       "      <td>100.500000</td>\n",
       "      <td>149.750000</td>\n",
       "      <td>22.900000</td>\n",
       "      <td>25.750000</td>\n",
       "      <td>12.900000</td>\n",
       "    </tr>\n",
       "    <tr>\n",
       "      <th>75%</th>\n",
       "      <td>150.250000</td>\n",
       "      <td>218.825000</td>\n",
       "      <td>36.525000</td>\n",
       "      <td>45.100000</td>\n",
       "      <td>17.400000</td>\n",
       "    </tr>\n",
       "    <tr>\n",
       "      <th>max</th>\n",
       "      <td>200.000000</td>\n",
       "      <td>296.400000</td>\n",
       "      <td>49.600000</td>\n",
       "      <td>114.000000</td>\n",
       "      <td>27.000000</td>\n",
       "    </tr>\n",
       "  </tbody>\n",
       "</table>\n",
       "</div>"
      ],
      "text/plain": [
       "       Unnamed: 0          TV       radio   newspaper       sales\n",
       "count  200.000000  200.000000  200.000000  200.000000  200.000000\n",
       "mean   100.500000  147.042500   23.264000   30.554000   14.022500\n",
       "std     57.879185   85.854236   14.846809   21.778621    5.217457\n",
       "min      1.000000    0.700000    0.000000    0.300000    1.600000\n",
       "25%     50.750000   74.375000    9.975000   12.750000   10.375000\n",
       "50%    100.500000  149.750000   22.900000   25.750000   12.900000\n",
       "75%    150.250000  218.825000   36.525000   45.100000   17.400000\n",
       "max    200.000000  296.400000   49.600000  114.000000   27.000000"
      ]
     },
     "execution_count": 12,
     "metadata": {},
     "output_type": "execute_result"
    }
   ],
   "source": [
    "df.describe()"
   ]
  },
  {
   "cell_type": "code",
   "execution_count": 14,
   "metadata": {},
   "outputs": [
    {
     "data": {
      "text/plain": [
       "Index(['Unnamed: 0', 'TV', 'radio', 'newspaper', 'sales'], dtype='object')"
      ]
     },
     "execution_count": 14,
     "metadata": {},
     "output_type": "execute_result"
    }
   ],
   "source": [
    "df.columns"
   ]
  },
  {
   "cell_type": "code",
   "execution_count": 15,
   "metadata": {},
   "outputs": [
    {
     "data": {
      "text/plain": [
       "<matplotlib.axes._subplots.AxesSubplot at 0x20605a3d2c8>"
      ]
     },
     "execution_count": 15,
     "metadata": {},
     "output_type": "execute_result"
    },
    {
     "data": {
      "image/png": "[encoded data removed]",
      "text/plain": [
       "<Figure size 432x288 with 1 Axes>"
      ]
     },
     "metadata": {
      "needs_background": "light"
     },
     "output_type": "display_data"
    }
   ],
   "source": [
    "df['TV'].plot.box()"
   ]
  },
  {
   "cell_type": "code",
   "execution_count": 16,
   "metadata": {},
   "outputs": [
    {
     "data": {
      "text/plain": [
       "<matplotlib.axes._subplots.AxesSubplot at 0x20605a9d3c8>"
      ]
     },
     "execution_count": 16,
     "metadata": {},
     "output_type": "execute_result"
    },
    {
     "data": {
      "image/png": "[encoded data removed]",
      "text/plain": [
       "<Figure size 432x288 with 1 Axes>"
      ]
     },
     "metadata": {
      "needs_background": "light"
     },
     "output_type": "display_data"
    }
   ],
   "source": [
    "df['radio'].plot.box()"
   ]
  },
  {
   "cell_type": "code",
   "execution_count": 20,
   "metadata": {},
   "outputs": [
    {
     "data": {
      "text/plain": [
       "<matplotlib.axes._subplots.AxesSubplot at 0x20605986ec8>"
      ]
     },
     "execution_count": 20,
     "metadata": {},
     "output_type": "execute_result"
    },
    {
     "data": {
      "image/png": "[encoded data removed]",
      "text/plain": [
       "<Figure size 432x288 with 1 Axes>"
      ]
     },
     "metadata": {
      "needs_background": "light"
     },
     "output_type": "display_data"
    }
   ],
   "source": [
    "sns.boxplot(df['newspaper'])"
   ]
  },
  {
   "cell_type": "code",
   "execution_count": 21,
   "metadata": {},
   "outputs": [
    {
     "data": {
      "text/plain": [
       "<matplotlib.axes._subplots.AxesSubplot at 0x20605c60a88>"
      ]
     },
     "execution_count": 21,
     "metadata": {},
     "output_type": "execute_result"
    },
    {
     "data": {
      "image/png": "[encoded data removed]",
      "text/plain": [
       "<Figure size 432x288 with 1 Axes>"
      ]
     },
     "metadata": {
      "needs_background": "light"
     },
     "output_type": "display_data"
    }
   ],
   "source": [
    "sns.boxplot(df['sales'])"
   ]
  },
  {
   "cell_type": "code",
   "execution_count": 22,
   "metadata": {},
   "outputs": [
    {
     "data": {
      "text/plain": [
       "<seaborn.axisgrid.PairGrid at 0x20605b3d708>"
      ]
     },
     "execution_count": 22,
     "metadata": {},
     "output_type": "execute_result"
    },
    {
     "data": {
      "image/png": "[encoded data removed]",
      "text/plain": [
       "<Figure size 900x900 with 30 Axes>"
      ]
     },
     "metadata": {
      "needs_background": "light"
     },
     "output_type": "display_data"
    }
   ],
   "source": [
    "sns.pairplot(df)"
   ]
  },
  {
   "cell_type": "code",
   "execution_count": 23,
   "metadata": {},
   "outputs": [
    {
     "data": {
      "text/plain": [
       "Unnamed: 0    0.000000\n",
       "TV           -0.069853\n",
       "radio         0.094175\n",
       "newspaper     0.894720\n",
       "sales         0.407571\n",
       "dtype: float64"
      ]
     },
     "execution_count": 23,
     "metadata": {},
     "output_type": "execute_result"
    }
   ],
   "source": [
    "df.skew()"
   ]
  },
  {
   "cell_type": "code",
   "execution_count": 25,
   "metadata": {},
   "outputs": [],
   "source": [
    "for col in df.columns:\n",
    "    if df.skew().loc[col]>.55:\n",
    "        df[col]=np.log1p(df[col])"
   ]
  },
  {
   "cell_type": "code",
   "execution_count": 26,
   "metadata": {},
   "outputs": [
    {
     "data": {
      "text/plain": [
       "Unnamed: 0    0.000000\n",
       "TV           -0.069853\n",
       "radio         0.094175\n",
       "newspaper    -0.799875\n",
       "sales         0.407571\n",
       "dtype: float64"
      ]
     },
     "execution_count": 26,
     "metadata": {},
     "output_type": "execute_result"
    }
   ],
   "source": [
    "df.skew()"
   ]
  },
  {
   "cell_type": "code",
   "execution_count": 27,
   "metadata": {},
   "outputs": [],
   "source": [
    "# To check the Outliers"
   ]
  },
  {
   "cell_type": "code",
   "execution_count": 28,
   "metadata": {},
   "outputs": [],
   "source": [
    "from scipy.stats import zscore"
   ]
  },
  {
   "cell_type": "code",
   "execution_count": 29,
   "metadata": {},
   "outputs": [
    {
     "data": {
      "text/plain": [
       "array([[1.72341210e+00, 9.69852266e-01, 9.81522472e-01, 1.27054817e+00,\n",
       "        1.55205313e+00],\n",
       "       [1.70609137e+00, 1.19737623e+00, 1.08280781e+00, 7.84008452e-01,\n",
       "        6.96046111e-01],\n",
       "       [1.68877065e+00, 1.51615499e+00, 1.52846331e+00, 1.27219508e+00,\n",
       "        9.07405869e-01],\n",
       "       [1.67144992e+00, 5.20496822e-02, 1.21785493e+00, 1.07922051e+00,\n",
       "        8.60330287e-01],\n",
       "       [1.65412920e+00, 3.94182198e-01, 8.41613655e-01, 1.07727442e+00,\n",
       "        2.15683025e-01],\n",
       "       [1.63680847e+00, 1.61540845e+00, 1.73103399e+00, 1.36239293e+00,\n",
       "        1.31091086e+00],\n",
       "       [1.61948775e+00, 1.04557682e+00, 6.43904671e-01, 5.26522686e-02,\n",
       "        4.27042783e-01],\n",
       "       [1.60216702e+00, 3.13436589e-01, 2.47406325e-01, 7.16694174e-01,\n",
       "        1.58039455e-01],\n",
       "       [1.58484630e+00, 1.61657614e+00, 1.42906863e+00, 2.84612391e+00,\n",
       "        1.77205942e+00],\n",
       "       [1.56752558e+00, 6.16042873e-01, 1.39530685e+00, 6.14011337e-02,\n",
       "        6.57617064e-01],\n",
       "       [1.55020485e+00, 9.45155670e-01, 1.17923146e+00, 8.52446540e-02,\n",
       "        1.04190753e+00],\n",
       "       [1.53288413e+00, 7.90028350e-01, 4.96973404e-02, 1.78601844e+00,\n",
       "        6.48970529e-01],\n",
       "       [1.51556340e+00, 1.43908760e+00, 7.99208859e-01, 1.21484164e+00,\n",
       "        9.26620392e-01],\n",
       "       [1.49824268e+00, 5.78501712e-01, 1.05768905e+00, 1.21367806e+00,\n",
       "        8.30547775e-01],\n",
       "       [1.48092195e+00, 6.66253447e-01, 6.50657027e-01, 8.06377739e-01,\n",
       "        9.56402904e-01],\n",
       "       [1.46360123e+00, 5.64664612e-01, 1.65000572e+00, 9.64860512e-01,\n",
       "        1.60969670e+00],\n",
       "       [1.44628050e+00, 9.25304978e-01, 9.00494200e-01, 1.84160153e+00,\n",
       "        2.92541119e-01],\n",
       "       [1.42895978e+00, 1.56887609e+00, 1.10306488e+00, 1.02549162e+00,\n",
       "        1.99398717e+00],\n",
       "       [1.41163905e+00, 9.08957349e-01, 1.86635121e-01, 2.23359761e-01,\n",
       "        5.23115400e-01],\n",
       "       [1.39431833e+00, 3.00679600e-03, 4.29449843e-02, 1.76370432e-01,\n",
       "        1.10963873e-01],\n",
       "       [1.37699760e+00, 8.33232798e-01, 2.99534513e-01, 9.75543442e-01,\n",
       "        7.64257669e-01],\n",
       "       [1.35967688e+00, 1.05509347e+00, 1.22649795e+00, 5.26522686e-02,\n",
       "        2.92541119e-01],\n",
       "       [1.34235616e+00, 1.56286250e+00, 4.97243498e-01, 8.91765481e-01,\n",
       "        1.61834324e+00],\n",
       "       [1.32503543e+00, 9.48833887e-01, 4.29719938e-01, 1.73604614e-01,\n",
       "        2.83894584e-01],\n",
       "       [1.30771471e+00, 9.89527805e-01, 7.20071247e-01, 2.23359761e-01,\n",
       "        8.30547775e-01],\n",
       "       [1.29039398e+00, 1.35285385e+00, 1.33453565e+00, 1.53572588e-01,\n",
       "        3.88613736e-01],\n",
       "       [1.27307326e+00, 4.83714657e-02, 4.07572210e-01, 6.28334214e-01,\n",
       "        1.87821967e-01],\n",
       "       [1.25575253e+00, 1.08662104e+00, 4.43224650e-01, 2.39660097e-02,\n",
       "        3.60752677e-01],\n",
       "       [1.23843181e+00, 1.18820988e+00, 2.59020377e-01, 2.39660097e-02,\n",
       "        9.37188380e-01],\n",
       "       [1.22111108e+00, 8.92609721e-01, 4.90491142e-01, 6.70723519e-01,\n",
       "        6.76831588e-01],\n",
       "       [1.20379036e+00, 1.70316018e+00, 3.40048650e-01, 7.35314421e-01,\n",
       "        1.41755147e+00],\n",
       "       [1.18646963e+00, 3.98677796e-01, 3.95958157e-01, 6.08170276e-01,\n",
       "        4.07828260e-01],\n",
       "       [1.16914891e+00, 5.82004775e-01, 1.46958277e+00, 3.24899648e-01,\n",
       "        8.49762299e-01],\n",
       "       [1.15182818e+00, 1.38438142e+00, 2.20396901e-01, 3.34451957e+00,\n",
       "        6.48970529e-01],\n",
       "       [1.13450746e+00, 5.99520091e-01, 1.47633512e+00, 1.18579832e+00,\n",
       "        8.68976822e-01],\n",
       "       [1.11718674e+00, 1.67747105e+00, 1.29402151e+00, 1.04342355e+00,\n",
       "        2.34897549e-01],\n",
       "       [1.09986601e+00, 1.39956136e+00, 1.38666383e+00, 1.57508094e+00,\n",
       "        2.18613240e+00],\n",
       "       [1.08254529e+00, 8.44734522e-01, 1.76479577e+00, 7.98969262e-01,\n",
       "        1.30178396e-01],\n",
       "       [1.06522456e+00, 1.21372386e+00, 2.32010953e-01, 5.01110165e-01,\n",
       "        7.53689682e-01],\n",
       "       [1.04790384e+00, 9.45330823e-01, 9.74770116e-01, 3.97232773e-01,\n",
       "        1.43676599e+00],\n",
       "       [1.03058311e+00, 6.47570443e-01, 6.50927121e-02, 3.83123413e-01,\n",
       "        4.95254341e-01],\n",
       "       [1.01326239e+00, 3.49810063e-01, 6.84418807e-01, 6.11088192e-01,\n",
       "        5.91326959e-01],\n",
       "       [9.95941664e-01, 1.71133400e+00, 2.99534513e-01, 2.45684129e+00,\n",
       "        1.28304980e+00],\n",
       "       [9.78620939e-01, 6.98948705e-01, 1.00367020e+00, 1.82080499e-01,\n",
       "        2.15683025e-01],\n",
       "       [9.61300215e-01, 1.42390765e+00, 1.64487393e-01, 7.37929006e-01,\n",
       "        1.06112206e+00],\n",
       "       [9.43979490e-01, 3.27623995e-01, 5.15880000e-02, 3.79569023e-01,\n",
       "        1.68607443e-01],\n",
       "       [9.26658765e-01, 6.69581357e-01, 9.02384859e-01, 5.20181253e-01,\n",
       "        6.57617064e-01],\n",
       "       [9.09338041e-01, 1.08428567e+00, 1.23135965e+00, 2.11432303e-01,\n",
       "        1.76341289e+00],\n",
       "       [8.92017316e-01, 9.35989321e-01, 5.03995854e-01, 8.98604633e-01,\n",
       "        1.49392920e-01],\n",
       "       [8.74696592e-01, 9.35814168e-01, 7.80842451e-01, 5.54348797e-01,\n",
       "        8.30547775e-01],\n",
       "       [8.57375867e-01, 6.16042873e-01, 1.36154507e+00, 4.84973876e-01,\n",
       "        5.03900877e-01],\n",
       "       [8.40055142e-01, 5.44638766e-01, 9.22641928e-01, 1.88248706e+00,\n",
       "        6.38402541e-01],\n",
       "       [8.22734418e-01, 8.09879042e-01, 1.24486436e+00, 6.37023472e-01,\n",
       "        1.64812575e+00],\n",
       "       [8.05413693e-01, 4.15200577e-01, 1.54872038e+00, 1.08310291e+00,\n",
       "        1.37912242e+00],\n",
       "       [7.88092969e-01, 1.35051848e+00, 3.73810430e-01, 3.76993277e-01,\n",
       "        1.18697718e+00],\n",
       "       [7.70772244e-01, 6.05533683e-01, 1.76479577e+00, 1.10802581e+00,\n",
       "        1.85948550e+00],\n",
       "       [7.53451519e-01, 1.63175608e+00, 3.26543937e-01, 6.87212442e-01,\n",
       "        1.63755776e+00],\n",
       "       [7.36130795e-01, 1.26606546e-01, 2.74415749e-01, 3.30038009e-01,\n",
       "        1.58039455e-01],\n",
       "       [7.18810070e-01, 7.44488528e-01, 1.77830048e+00, 5.81572480e-01,\n",
       "        1.87870003e+00],\n",
       "       [7.01489346e-01, 7.43320840e-01, 4.21076922e-01, 9.49881463e-01,\n",
       "        8.41115763e-01],\n",
       "       [6.84168621e-01, 1.09228433e+00, 1.43582099e+00, 5.10248025e-02,\n",
       "        1.13798015e+00],\n",
       "       [6.66847897e-01, 1.33417085e+00, 1.31238792e+00, 1.00286604e+00,\n",
       "        1.95555812e+00],\n",
       "       [6.49527172e-01, 1.07727954e+00, 5.24252922e-01, 2.19471827e-01,\n",
       "        3.22323631e-01],\n",
       "       [6.32206447e-01, 5.17781948e-01, 4.27829278e-01, 1.05566656e+00,\n",
       "        4.32326777e-03],\n",
       "       [6.14885723e-01, 1.86158622e-01, 1.31914027e+00, 2.83100406e-01,\n",
       "        7.64257669e-01],\n",
       "       [5.97564998e-01, 9.11292725e-01, 9.42898996e-01, 2.90546785e+00,\n",
       "        9.07405869e-01],\n",
       "       [5.80244274e-01, 1.34917564e+00, 9.02114765e-02, 2.30235172e+00,\n",
       "        8.68976822e-01],\n",
       "       [5.62923549e-01, 9.04082253e-02, 5.91776482e-01, 8.52963631e-01,\n",
       "        1.19610408e-01],\n",
       "       [5.45602824e-01, 1.05509347e+00, 2.86029801e-01, 7.73142110e-01,\n",
       "        9.37188380e-01],\n",
       "       [5.28282100e-01, 8.14549794e-01, 1.39341619e+00, 2.15376414e-01,\n",
       "        1.59048218e+00],\n",
       "       [5.10961375e-01, 6.07869059e-01, 4.95352838e-01, 6.11088192e-01,\n",
       "        8.21901240e-01],\n",
       "       [4.93640651e-01, 4.34876116e-01, 6.05281194e-01, 3.86666917e-01,\n",
       "        3.11755643e-01],\n",
       "       [4.76319926e-01, 1.40405696e+00, 6.57409383e-01, 1.64915357e-01,\n",
       "        1.00347849e+00],\n",
       "       [4.58999202e-01, 2.06009314e-01, 1.18598381e+00, 3.72427314e-01,\n",
       "        5.80758971e-01],\n",
       "       [4.41678477e-01, 7.74848409e-01, 9.02114765e-02, 5.86562415e-01,\n",
       "        5.72112435e-01],\n",
       "       [4.24357752e-01, 1.51965805e+00, 1.37991148e+00, 1.56313695e+00,\n",
       "        1.02269301e+00],\n",
       "       [4.07037028e-01, 1.39588315e+00, 1.46283041e+00, 8.77565597e-02,\n",
       "        1.36855443e+00],\n",
       "       [3.89716303e-01, 3.09933525e-01, 3.53553362e-01, 4.99651363e-01,\n",
       "        3.41057791e-02],\n",
       "       [3.72395579e-01, 1.65394214e+00, 4.48086346e-01, 9.38703084e-01,\n",
       "        1.67598681e+00],\n",
       "       [3.55074854e-01, 3.62479475e-01, 1.05093669e+00, 3.36073419e-02,\n",
       "        5.80758971e-01],\n",
       "       [3.37754129e-01, 8.24883830e-01, 2.32010953e-01, 5.44963848e-03,\n",
       "        4.27042783e-01],\n",
       "       [3.20433405e-01, 1.08311798e+00, 1.29402151e+00, 5.57405478e-01,\n",
       "        3.30970166e-01],\n",
       "       [3.03112680e-01, 8.37728396e-01, 2.00139833e-01, 4.14630893e-01,\n",
       "        5.23115400e-01],\n",
       "       [2.85791956e-01, 9.18298852e-01, 1.43393033e+00, 5.17024490e-01,\n",
       "        8.11813615e-02],\n",
       "       [2.68471231e-01, 7.76016097e-01, 1.33264499e+00, 4.58678354e-01,\n",
       "        1.47519504e+00],\n",
       "       [2.51150506e-01, 5.38975481e-01, 3.28434597e-01, 1.21137770e+00,\n",
       "        2.26251013e-01],\n",
       "       [2.33829782e-01, 8.26051518e-01, 2.86029801e-01, 3.70167575e-01,\n",
       "        3.88613736e-01],\n",
       "       [2.16509057e-01, 4.24366926e-01, 1.17058844e+00, 1.16718007e+00,\n",
       "        3.79967201e-01],\n",
       "       [1.99188333e-01, 6.85928986e-01, 1.50982681e-01, 1.33777598e+00,\n",
       "        2.15683025e-01],\n",
       "       [1.81867608e-01, 4.34876116e-01, 1.65675807e+00, 9.32206797e-01,\n",
       "        5.14468865e-01],\n",
       "       [1.64546884e-01, 1.48792614e-01, 1.24000266e+00, 9.49881463e-01,\n",
       "        5.42329924e-01],\n",
       "       [1.47226159e-01, 1.38303858e+00, 1.46958277e+00, 4.31771253e-01,\n",
       "        1.29169634e+00],\n",
       "       [1.29905434e-01, 8.25058983e-01, 6.91171163e-01, 1.08890219e+00,\n",
       "        1.03326100e+00],\n",
       "       [1.12584710e-01, 1.21273132e+00, 8.93741844e-01, 1.32054278e+00,\n",
       "        1.57126765e+00],\n",
       "       [9.52639852e-02, 4.62900623e-01, 6.25538262e-01, 7.82823783e-01,\n",
       "        4.84686354e-01],\n",
       "       [7.79432606e-02, 1.89836839e-01, 5.62876398e-01, 9.64860512e-01,\n",
       "        5.52897912e-01],\n",
       "       [6.06225361e-02, 5.90353742e-01, 1.33453565e+00, 1.41338292e+00,\n",
       "        4.46257307e-01],\n",
       "       [4.33018115e-02, 4.42057396e-01, 1.52873340e-01, 2.04427620e-02,\n",
       "        2.83894584e-01],\n",
       "       [2.59810869e-02, 1.66579418e+00, 1.28537849e+00, 9.27782496e-01,\n",
       "        2.18613240e+00],\n",
       "       [8.66036229e-03, 1.38283424e-01, 1.24486436e+00, 8.03913514e-01,\n",
       "        6.10541482e-01],\n",
       "       [8.66036229e-03, 8.79940308e-01, 1.28051680e+00, 8.96329405e-01,\n",
       "        4.46257307e-01],\n",
       "       [2.59810869e-02, 1.74402926e+00, 8.80237132e-01, 1.70167940e+00,\n",
       "        1.87870003e+00],\n",
       "       [4.33018115e-02, 1.55486384e+00, 8.88880147e-01, 5.10248025e-02,\n",
       "        1.49392920e-01],\n",
       "       [6.06225361e-02, 4.77088029e-01, 4.09462869e-01, 2.47590032e-01,\n",
       "        1.30178396e-01],\n",
       "       [7.79432606e-02, 1.06443498e+00, 7.45190011e-01, 1.51863300e+00,\n",
       "        1.28304980e+00],\n",
       "       [9.52639852e-02, 1.06755854e-01, 1.56222509e+00, 1.08890219e+00,\n",
       "        9.94831951e-01],\n",
       "       [1.12584710e-01, 1.42507534e+00, 8.28108943e-01, 3.13648799e-01,\n",
       "        1.31091086e+00],\n",
       "       [1.29905434e-01, 6.61407543e-01, 1.55061104e+00, 3.83980451e-02,\n",
       "        1.02269301e+00],\n",
       "       [1.47226159e-01, 1.56403019e+00, 1.54385868e+00, 1.47797897e-01,\n",
       "        1.67598681e+00],\n",
       "       [1.64546884e-01, 1.26527727e+00, 2.45515665e-01, 1.48247527e+00,\n",
       "        1.11011909e+00],\n",
       "       [1.81867608e-01, 9.19641692e-01, 1.01717491e+00, 1.03966271e+00,\n",
       "        1.19610408e-01],\n",
       "       [1.99188333e-01, 1.10530405e+00, 9.95027184e-01, 3.83980451e-02,\n",
       "        1.49440956e+00],\n",
       "       [2.16509057e-01, 3.34630122e-01, 5.31005278e-01, 2.23221187e+00,\n",
       "        1.48912557e-02],\n",
       "       [2.33829782e-01, 7.30476274e-01, 1.79882765e-01, 8.02433628e-01,\n",
       "        3.60752677e-01],\n",
       "       [2.51150506e-01, 8.03865450e-01, 1.58923451e+00, 4.81719434e-01,\n",
       "        1.10963873e-01],\n",
       "       [2.68471231e-01, 8.40063771e-01, 7.92456503e-01, 9.60559566e-01,\n",
       "        2.73326596e-01],\n",
       "       [2.85791956e-01, 9.15759131e-02, 6.05281194e-01, 1.47797897e-01,\n",
       "        3.50184689e-01],\n",
       "       [3.03112680e-01, 8.24883830e-01, 1.51684926e+00, 4.54860486e-01,\n",
       "        8.88191346e-01],\n",
       "       [3.20433405e-01, 2.49213762e-01, 9.20751268e-01, 1.42462565e+00,\n",
       "        3.60752677e-01],\n",
       "       [3.37754129e-01, 1.49046586e+00, 4.90491142e-01, 5.44963848e-03,\n",
       "        1.42619800e+00],\n",
       "       [3.55074854e-01, 6.70544700e-02, 2.38763309e-01, 8.11290499e-01,\n",
       "        2.83894584e-01],\n",
       "       [3.72395579e-01, 1.49747198e+00, 1.05606848e-01, 9.09914138e-01,\n",
       "        1.34933991e+00],\n",
       "       [3.89716303e-01, 8.98623313e-01, 1.40881156e+00, 3.97715381e-01,\n",
       "        4.65471830e-01],\n",
       "       [4.07037028e-01, 2.79573643e-01, 7.65447079e-01, 6.45474575e-01,\n",
       "        2.26251013e-01],\n",
       "       [4.24357752e-01, 9.62846140e-01, 6.10142891e-01, 1.35014993e+00,\n",
       "        1.09090457e+00],\n",
       "       [4.41678477e-01, 6.98773552e-01, 7.74090095e-01, 1.60773209e-01,\n",
       "        6.57617064e-01],\n",
       "       [4.58999202e-01, 1.62591764e+00, 1.05579839e+00, 9.14407166e-01,\n",
       "        1.42619800e+00],\n",
       "       [4.76319926e-01, 7.80511695e-01, 1.57086811e+00, 9.61168900e-01,\n",
       "        1.00347849e+00],\n",
       "       [4.93640651e-01, 8.55418865e-01, 1.73778635e+00, 1.98773715e+00,\n",
       "        2.05163074e+00],\n",
       "       [5.10961375e-01, 1.02105537e+00, 7.60585383e-01, 7.32693914e-01,\n",
       "        8.30547775e-01],\n",
       "       [5.28282100e-01, 1.70882347e+00, 1.10306488e+00, 1.01931949e+00,\n",
       "        2.38692417e+00],\n",
       "       [5.45602824e-01, 1.37971067e+00, 1.37504978e+00, 7.30067459e-01,\n",
       "        2.54112072e-01],\n",
       "       [5.62923549e-01, 1.61891151e+00, 2.65772733e-01, 2.33908348e+00,\n",
       "        1.59912871e+00],\n",
       "       [5.80244274e-01, 8.49580427e-01, 6.91171163e-01, 7.84008452e-01,\n",
       "        1.07169004e+00],\n",
       "       [5.97564998e-01, 1.28612050e+00, 1.03554132e+00, 1.20964184e+00,\n",
       "        6.19188018e-01],\n",
       "       [6.14885723e-01, 1.15300409e+00, 1.60273923e+00, 1.04342355e+00,\n",
       "        4.65471830e-01],\n",
       "       [6.32206447e-01, 1.41806922e+00, 1.06255074e+00, 9.49881463e-01,\n",
       "        8.68976822e-01],\n",
       "       [6.49527172e-01, 1.47896413e+00, 3.80562786e-01, 1.10232184e+00,\n",
       "        1.30226433e+00],\n",
       "       [6.66847897e-01, 1.21489154e+00, 1.77992105e-01, 9.84691656e-02,\n",
       "        8.49762299e-01],\n",
       "       [6.84168621e-01, 4.42057396e-01, 1.39341619e+00, 2.49891695e+00,\n",
       "        1.28304980e+00],\n",
       "       [7.01489346e-01, 8.59914463e-01, 4.22967582e-01, 6.03090598e-01,\n",
       "        5.99973494e-01],\n",
       "       [7.18810070e-01, 5.44813920e-01, 8.19465927e-01, 1.37149091e+00,\n",
       "        9.94831951e-01],\n",
       "       [7.36130795e-01, 8.57754241e-01, 6.70914095e-01, 5.87536170e-01,\n",
       "        1.16776266e+00],\n",
       "       [7.53451519e-01, 4.95595880e-01, 1.18598381e+00, 4.78455813e-01,\n",
       "        6.96046111e-01],\n",
       "       [7.70772244e-01, 5.93681653e-01, 5.71519414e-01, 6.16902040e-01,\n",
       "        5.03900877e-01],\n",
       "       [7.88092969e-01, 7.87313476e-02, 1.44257334e+00, 9.84079613e-01,\n",
       "        7.15260635e-01],\n",
       "       [8.05413693e-01, 1.08662104e+00, 1.07794612e+00, 1.01931949e+00,\n",
       "        1.58039455e-01],\n",
       "       [8.22734418e-01, 1.12281936e+00, 1.73778635e+00, 7.63754925e-01,\n",
       "        2.18613240e+00],\n",
       "       [8.40055142e-01, 1.27327593e+00, 1.15033137e+00, 6.89470491e-01,\n",
       "        5.99973494e-01],\n",
       "       [8.57375867e-01, 1.19504085e+00, 1.71239749e-01, 9.31004638e-02,\n",
       "        7.53689682e-01],\n",
       "       [8.74696592e-01, 1.56070228e+00, 6.32290618e-01, 5.60454105e-01,\n",
       "        3.99181724e-01],\n",
       "       [8.92017316e-01, 3.04095087e-01, 1.00367020e+00, 8.71002056e-01,\n",
       "        4.65471830e-01],\n",
       "       [9.09338041e-01, 5.90353742e-01, 2.43084817e-03, 4.99651363e-01,\n",
       "        4.95254341e-01],\n",
       "       [9.26658765e-01, 2.83251860e-01, 1.10981724e+00, 5.81572480e-01,\n",
       "        9.56402904e-01],\n",
       "       [9.43979490e-01, 4.75920341e-01, 1.46120984e-01, 9.27631678e-01,\n",
       "        3.03109107e-01],\n",
       "       [9.61300215e-01, 1.66912209e+00, 7.87594807e-01, 1.44741340e+00,\n",
       "        2.07949180e+00],\n",
       "       [9.78620939e-01, 6.20538471e-01, 1.36640677e+00, 9.12162833e-01,\n",
       "        2.45465537e-01],\n",
       "       [9.95941664e-01, 3.21989902e-02, 1.48308748e+00, 8.98266528e-02,\n",
       "        7.53689682e-01],\n",
       "       [1.01326239e+00, 1.58037782e+00, 9.20751268e-01, 7.86515394e-01,\n",
       "        1.29169634e+00],\n",
       "       [1.03058311e+00, 1.79152496e-01, 3.28434597e-01, 4.84973876e-01,\n",
       "        2.15683025e-01],\n",
       "       [1.04790384e+00, 2.97264113e-01, 3.48691665e-01, 3.50733806e-01,\n",
       "        7.25348259e-02],\n",
       "       [1.06522456e+00, 7.16288868e-01, 8.46475352e-01, 8.84885660e-01,\n",
       "        1.38824932e-01],\n",
       "       [1.08254529e+00, 4.82926468e-01, 3.48691665e-01, 1.47797897e-01,\n",
       "        1.68607443e-01],\n",
       "       [1.09986601e+00, 1.92172214e-01, 9.13998912e-01, 1.18579832e+00,\n",
       "        7.64257669e-01],\n",
       "       [1.11718674e+00, 3.48467222e-01, 5.78271770e-01, 1.50041289e+00,\n",
       "        4.07828260e-01],\n",
       "       [1.13450746e+00, 1.02123053e+00, 1.34128800e+00, 1.50271477e+00,\n",
       "        4.07828260e-01],\n",
       "       [1.15182818e+00, 1.50798117e+00, 9.68017760e-01, 4.07407066e-02,\n",
       "        1.15719467e+00],\n",
       "       [1.16914891e+00, 6.97781017e-01, 1.21974559e+00, 1.59230072e-01,\n",
       "        3.50184689e-01],\n",
       "       [1.18646963e+00, 7.98202165e-01, 2.26879163e-02, 1.06158668e+00,\n",
       "        5.91326959e-01],\n",
       "       [1.20379036e+00, 1.60273904e+00, 8.55118367e-01, 1.33244410e+00,\n",
       "        1.87821967e-01],\n",
       "       [1.22111108e+00, 1.13315340e+00, 7.87594807e-01, 2.17380661e-01,\n",
       "        1.08033658e+00],\n",
       "       [1.23843181e+00, 2.03849092e-01, 1.59625696e-01, 8.40336874e-01,\n",
       "        9.17493494e-02],\n",
       "       [1.25575253e+00, 1.48813048e+00, 2.13644545e-01, 3.04037967e-01,\n",
       "        1.23405277e+00],\n",
       "       [1.27307326e+00, 2.49388915e-01, 1.09145083e+00, 6.11444087e-01,\n",
       "        4.46257307e-01],\n",
       "       [1.29039398e+00, 8.79940308e-01, 1.34128800e+00, 5.86562415e-01,\n",
       "        4.84686354e-01],\n",
       "       [1.30771471e+00, 1.51633014e+00, 1.73103399e+00, 6.98075932e-01,\n",
       "        2.49356478e+00],\n",
       "       [1.32503543e+00, 1.18353913e+00, 4.68343414e-01, 1.09281891e-01,\n",
       "        1.18697718e+00],\n",
       "       [1.34235616e+00, 2.70407294e-01, 1.04418434e+00, 5.04310591e-01,\n",
       "        4.46257307e-01],\n",
       "       [1.35967688e+00, 1.51399477e+00, 1.41556392e+00, 6.20584438e-02,\n",
       "        4.27042783e-01],\n",
       "       [1.37699760e+00, 2.16693657e-01, 8.95632503e-01, 2.66101678e-01,\n",
       "        2.73326596e-01],\n",
       "       [1.39431833e+00, 1.11601758e-01, 1.39530685e+00, 1.06804051e+00,\n",
       "        6.76831588e-01],\n",
       "       [1.41163905e+00, 8.34400486e-01, 1.20624088e+00, 2.23552795e-01,\n",
       "        3.50184689e-01],\n",
       "       [1.42895978e+00, 1.06075676e+00, 1.18598381e+00, 3.13648799e-01,\n",
       "        1.02269301e+00],\n",
       "       [1.44628050e+00, 1.64127273e+00, 1.33264499e+00, 1.31262383e+00,\n",
       "        2.33984859e+00],\n",
       "       [1.46360123e+00, 1.24659427e+00, 1.32616272e-01, 3.24899648e-01,\n",
       "        6.87399576e-01],\n",
       "       [1.48092195e+00, 6.76762637e-01, 1.47444446e+00, 1.47942634e-01,\n",
       "        1.64812575e+00],\n",
       "       [1.49824268e+00, 8.80728498e-02, 1.42906863e+00, 1.90494741e-01,\n",
       "        7.15260635e-01],\n",
       "       [1.51556340e+00, 5.14454038e-01, 3.67058074e-01, 2.29369920e-01,\n",
       "        6.29756005e-01],\n",
       "       [1.53288413e+00, 1.62258973e+00, 6.32290618e-01, 1.85760539e+00,\n",
       "        3.60752677e-01],\n",
       "       [1.55020485e+00, 1.49863967e+00, 7.53833027e-01, 4.79203472e-02,\n",
       "        1.40698348e+00],\n",
       "       [1.56752558e+00, 1.25576062e+00, 1.20435022e+00, 1.43027304e+00,\n",
       "        6.19188018e-01],\n",
       "       [1.58484630e+00, 8.35393020e-01, 8.41613655e-01, 1.39673582e+00,\n",
       "        7.92118728e-01],\n",
       "       [1.60216702e+00, 1.51615499e+00, 1.29402151e+00, 3.83123413e-01,\n",
       "        1.56069967e+00],\n",
       "       [1.61948775e+00, 2.30705910e-01, 1.26512143e+00, 1.88248706e+00,\n",
       "        1.07169004e+00],\n",
       "       [1.63680847e+00, 3.10313024e-02, 8.32970639e-01, 1.39673582e+00,\n",
       "        6.29756005e-01],\n",
       "       [1.65412920e+00, 1.27094056e+00, 1.32103093e+00, 5.30505276e-01,\n",
       "        1.23405277e+00],\n",
       "       [1.67144992e+00, 6.17035408e-01, 1.24000266e+00, 1.09319265e+00,\n",
       "        8.30547775e-01],\n",
       "       [1.68877065e+00, 3.49810063e-01, 9.42898996e-01, 1.33244410e+00,\n",
       "        2.34897549e-01],\n",
       "       [1.70609137e+00, 1.59456522e+00, 1.26512143e+00, 1.22001817e+00,\n",
       "        2.20534693e+00],\n",
       "       [1.72341210e+00, 9.93206022e-01, 9.90165488e-01, 1.01931949e+00,\n",
       "        1.19610408e-01]])"
      ]
     },
     "execution_count": 29,
     "metadata": {},
     "output_type": "execute_result"
    }
   ],
   "source": [
    "z=np.abs(zscore(df))\n",
    "z"
   ]
  },
  {
   "cell_type": "code",
   "execution_count": 30,
   "metadata": {},
   "outputs": [
    {
     "data": {
      "text/plain": [
       "(array([33], dtype=int64), array([3], dtype=int64))"
      ]
     },
     "execution_count": 30,
     "metadata": {},
     "output_type": "execute_result"
    }
   ],
   "source": [
    "threshold=3\n",
    "np.where(z>3)"
   ]
  },
  {
   "cell_type": "code",
   "execution_count": 31,
   "metadata": {},
   "outputs": [
    {
     "data": {
      "text/plain": [
       "3.344519569817156"
      ]
     },
     "execution_count": 31,
     "metadata": {},
     "output_type": "execute_result"
    }
   ],
   "source": [
    "z[33][3]"
   ]
  },
  {
   "cell_type": "code",
   "execution_count": 32,
   "metadata": {},
   "outputs": [
    {
     "data": {
      "text/html": [
       "<div>\n",
       "<style scoped>\n",
       "    .dataframe tbody tr th:only-of-type {\n",
       "        vertical-align: middle;\n",
       "    }\n",
       "\n",
       "    .dataframe tbody tr th {\n",
       "        vertical-align: top;\n",
       "    }\n",
       "\n",
       "    .dataframe thead th {\n",
       "        text-align: right;\n",
       "    }\n",
       "</style>\n",
       "<table border=\"1\" class=\"dataframe\">\n",
       "  <thead>\n",
       "    <tr style=\"text-align: right;\">\n",
       "      <th></th>\n",
       "      <th>Unnamed: 0</th>\n",
       "      <th>TV</th>\n",
       "      <th>radio</th>\n",
       "      <th>newspaper</th>\n",
       "      <th>sales</th>\n",
       "    </tr>\n",
       "  </thead>\n",
       "  <tbody>\n",
       "    <tr>\n",
       "      <th>0</th>\n",
       "      <td>1</td>\n",
       "      <td>230.1</td>\n",
       "      <td>37.8</td>\n",
       "      <td>4.251348</td>\n",
       "      <td>22.1</td>\n",
       "    </tr>\n",
       "    <tr>\n",
       "      <th>1</th>\n",
       "      <td>2</td>\n",
       "      <td>44.5</td>\n",
       "      <td>39.3</td>\n",
       "      <td>3.830813</td>\n",
       "      <td>10.4</td>\n",
       "    </tr>\n",
       "    <tr>\n",
       "      <th>2</th>\n",
       "      <td>3</td>\n",
       "      <td>17.2</td>\n",
       "      <td>45.9</td>\n",
       "      <td>4.252772</td>\n",
       "      <td>9.3</td>\n",
       "    </tr>\n",
       "    <tr>\n",
       "      <th>3</th>\n",
       "      <td>4</td>\n",
       "      <td>151.5</td>\n",
       "      <td>41.3</td>\n",
       "      <td>4.085976</td>\n",
       "      <td>18.5</td>\n",
       "    </tr>\n",
       "    <tr>\n",
       "      <th>4</th>\n",
       "      <td>5</td>\n",
       "      <td>180.8</td>\n",
       "      <td>10.8</td>\n",
       "      <td>4.084294</td>\n",
       "      <td>12.9</td>\n",
       "    </tr>\n",
       "    <tr>\n",
       "      <th>...</th>\n",
       "      <td>...</td>\n",
       "      <td>...</td>\n",
       "      <td>...</td>\n",
       "      <td>...</td>\n",
       "      <td>...</td>\n",
       "    </tr>\n",
       "    <tr>\n",
       "      <th>195</th>\n",
       "      <td>196</td>\n",
       "      <td>38.2</td>\n",
       "      <td>3.7</td>\n",
       "      <td>2.694627</td>\n",
       "      <td>7.6</td>\n",
       "    </tr>\n",
       "    <tr>\n",
       "      <th>196</th>\n",
       "      <td>197</td>\n",
       "      <td>94.2</td>\n",
       "      <td>4.9</td>\n",
       "      <td>2.208274</td>\n",
       "      <td>9.7</td>\n",
       "    </tr>\n",
       "    <tr>\n",
       "      <th>197</th>\n",
       "      <td>198</td>\n",
       "      <td>177.0</td>\n",
       "      <td>9.3</td>\n",
       "      <td>2.001480</td>\n",
       "      <td>12.8</td>\n",
       "    </tr>\n",
       "    <tr>\n",
       "      <th>198</th>\n",
       "      <td>199</td>\n",
       "      <td>283.6</td>\n",
       "      <td>42.0</td>\n",
       "      <td>4.207673</td>\n",
       "      <td>25.5</td>\n",
       "    </tr>\n",
       "    <tr>\n",
       "      <th>199</th>\n",
       "      <td>200</td>\n",
       "      <td>232.1</td>\n",
       "      <td>8.6</td>\n",
       "      <td>2.272126</td>\n",
       "      <td>13.4</td>\n",
       "    </tr>\n",
       "  </tbody>\n",
       "</table>\n",
       "<p>199 rows × 5 columns</p>\n",
       "</div>"
      ],
      "text/plain": [
       "     Unnamed: 0     TV  radio  newspaper  sales\n",
       "0             1  230.1   37.8   4.251348   22.1\n",
       "1             2   44.5   39.3   3.830813   10.4\n",
       "2             3   17.2   45.9   4.252772    9.3\n",
       "3             4  151.5   41.3   4.085976   18.5\n",
       "4             5  180.8   10.8   4.084294   12.9\n",
       "..          ...    ...    ...        ...    ...\n",
       "195         196   38.2    3.7   2.694627    7.6\n",
       "196         197   94.2    4.9   2.208274    9.7\n",
       "197         198  177.0    9.3   2.001480   12.8\n",
       "198         199  283.6   42.0   4.207673   25.5\n",
       "199         200  232.1    8.6   2.272126   13.4\n",
       "\n",
       "[199 rows x 5 columns]"
      ]
     },
     "execution_count": 32,
     "metadata": {},
     "output_type": "execute_result"
    }
   ],
   "source": [
    "df1=df[(z<3).all(axis=1)]\n",
    "df1"
   ]
  },
  {
   "cell_type": "code",
   "execution_count": 33,
   "metadata": {},
   "outputs": [
    {
     "data": {
      "text/html": [
       "<div>\n",
       "<style scoped>\n",
       "    .dataframe tbody tr th:only-of-type {\n",
       "        vertical-align: middle;\n",
       "    }\n",
       "\n",
       "    .dataframe tbody tr th {\n",
       "        vertical-align: top;\n",
       "    }\n",
       "\n",
       "    .dataframe thead th {\n",
       "        text-align: right;\n",
       "    }\n",
       "</style>\n",
       "<table border=\"1\" class=\"dataframe\">\n",
       "  <thead>\n",
       "    <tr style=\"text-align: right;\">\n",
       "      <th></th>\n",
       "      <th>TV</th>\n",
       "      <th>radio</th>\n",
       "      <th>newspaper</th>\n",
       "    </tr>\n",
       "  </thead>\n",
       "  <tbody>\n",
       "    <tr>\n",
       "      <th>0</th>\n",
       "      <td>230.1</td>\n",
       "      <td>37.8</td>\n",
       "      <td>4.251348</td>\n",
       "    </tr>\n",
       "    <tr>\n",
       "      <th>1</th>\n",
       "      <td>44.5</td>\n",
       "      <td>39.3</td>\n",
       "      <td>3.830813</td>\n",
       "    </tr>\n",
       "    <tr>\n",
       "      <th>2</th>\n",
       "      <td>17.2</td>\n",
       "      <td>45.9</td>\n",
       "      <td>4.252772</td>\n",
       "    </tr>\n",
       "    <tr>\n",
       "      <th>3</th>\n",
       "      <td>151.5</td>\n",
       "      <td>41.3</td>\n",
       "      <td>4.085976</td>\n",
       "    </tr>\n",
       "    <tr>\n",
       "      <th>4</th>\n",
       "      <td>180.8</td>\n",
       "      <td>10.8</td>\n",
       "      <td>4.084294</td>\n",
       "    </tr>\n",
       "    <tr>\n",
       "      <th>...</th>\n",
       "      <td>...</td>\n",
       "      <td>...</td>\n",
       "      <td>...</td>\n",
       "    </tr>\n",
       "    <tr>\n",
       "      <th>195</th>\n",
       "      <td>38.2</td>\n",
       "      <td>3.7</td>\n",
       "      <td>2.694627</td>\n",
       "    </tr>\n",
       "    <tr>\n",
       "      <th>196</th>\n",
       "      <td>94.2</td>\n",
       "      <td>4.9</td>\n",
       "      <td>2.208274</td>\n",
       "    </tr>\n",
       "    <tr>\n",
       "      <th>197</th>\n",
       "      <td>177.0</td>\n",
       "      <td>9.3</td>\n",
       "      <td>2.001480</td>\n",
       "    </tr>\n",
       "    <tr>\n",
       "      <th>198</th>\n",
       "      <td>283.6</td>\n",
       "      <td>42.0</td>\n",
       "      <td>4.207673</td>\n",
       "    </tr>\n",
       "    <tr>\n",
       "      <th>199</th>\n",
       "      <td>232.1</td>\n",
       "      <td>8.6</td>\n",
       "      <td>2.272126</td>\n",
       "    </tr>\n",
       "  </tbody>\n",
       "</table>\n",
       "<p>199 rows × 3 columns</p>\n",
       "</div>"
      ],
      "text/plain": [
       "        TV  radio  newspaper\n",
       "0    230.1   37.8   4.251348\n",
       "1     44.5   39.3   3.830813\n",
       "2     17.2   45.9   4.252772\n",
       "3    151.5   41.3   4.085976\n",
       "4    180.8   10.8   4.084294\n",
       "..     ...    ...        ...\n",
       "195   38.2    3.7   2.694627\n",
       "196   94.2    4.9   2.208274\n",
       "197  177.0    9.3   2.001480\n",
       "198  283.6   42.0   4.207673\n",
       "199  232.1    8.6   2.272126\n",
       "\n",
       "[199 rows x 3 columns]"
      ]
     },
     "execution_count": 33,
     "metadata": {},
     "output_type": "execute_result"
    }
   ],
   "source": [
    "x=df1.iloc[:,1:4]\n",
    "x"
   ]
  },
  {
   "cell_type": "raw",
   "metadata": {},
   "source": [
    "y=df1.iloc[:,4]\n",
    "y"
   ]
  },
  {
   "cell_type": "code",
   "execution_count": 35,
   "metadata": {},
   "outputs": [],
   "source": [
    "from sklearn.model_selection import train_test_split\n",
    "from sklearn.linear_model import LinearRegression\n",
    "from sklearn.metrics import mean_absolute_error, mean_squared_error\n",
    "from sklearn.metrics import r2_score\n",
    "from sklearn import linear_model"
   ]
  },
  {
   "cell_type": "code",
   "execution_count": 37,
   "metadata": {},
   "outputs": [
    {
     "name": "stdout",
     "output_type": "stream",
     "text": [
      "\n",
      "Max r2-Score corresponds to 90 is 0.94280827688424\n"
     ]
    }
   ],
   "source": [
    "max_r_score=0\n",
    "for r_state in range(40,101):\n",
    "    x_train,x_test,y_train,y_test=train_test_split(x,y,test_size=.20,random_state=r_state)\n",
    "    linr=LinearRegression()\n",
    "    linr.fit(x_train,y_train)\n",
    "    predlinr=linr.predict(x_test)\n",
    "    r2score=r2_score(y_test,predlinr)\n",
    "    if(r2score>max_r_score):\n",
    "        max_r_score=r2score\n",
    "        final_r_state=r_state\n",
    "        \n",
    "print(\"\")\n",
    "print('Max r2-Score corresponds to',final_r_state,'is',max_r_score)"
   ]
  },
  {
   "cell_type": "code",
   "execution_count": 42,
   "metadata": {},
   "outputs": [],
   "source": [
    "x_train,x_test,y_train,y_test=train_test_split(x,y,test_size=.20,random_state=90)"
   ]
  },
  {
   "cell_type": "code",
   "execution_count": 43,
   "metadata": {},
   "outputs": [
    {
     "data": {
      "text/plain": [
       "0.8845655674797014"
      ]
     },
     "execution_count": 43,
     "metadata": {},
     "output_type": "execute_result"
    }
   ],
   "source": [
    "linr.fit(x_train,y_train)\n",
    "linr.score(x_train,y_train)"
   ]
  },
  {
   "cell_type": "code",
   "execution_count": 44,
   "metadata": {},
   "outputs": [],
   "source": [
    "predlinr=linr.predict(x_test)"
   ]
  },
  {
   "cell_type": "code",
   "execution_count": 45,
   "metadata": {},
   "outputs": [
    {
     "name": "stdout",
     "output_type": "stream",
     "text": [
      "r2-Score = 0.94280827688424\n",
      "0.9661861394478795\n",
      "RMSE = 1.2069732201545373\n"
     ]
    }
   ],
   "source": [
    "print('r2-Score =',r2_score(y_test,predlinr))\n",
    "print(mean_absolute_error(y_test,predlinr))\n",
    "print('RMSE =',np.sqrt(mean_squared_error(y_test,predlinr)))"
   ]
  },
  {
   "cell_type": "code",
   "execution_count": null,
   "metadata": {},
   "outputs": [],
   "source": []
  }
 ],
 "metadata": {
  "kernelspec": {
   "display_name": "Python 3",
   "language": "python",
   "name": "python3"
  },
  "language_info": {
   "codemirror_mode": {
    "name": "ipython",
    "version": 3
   },
   "file_extension": ".py",
   "mimetype": "text/x-python",
   "name": "python",
   "nbconvert_exporter": "python",
   "pygments_lexer": "ipython3",
   "version": "3.7.6"
  }
 },
 "nbformat": 4,
 "nbformat_minor": 4
}
