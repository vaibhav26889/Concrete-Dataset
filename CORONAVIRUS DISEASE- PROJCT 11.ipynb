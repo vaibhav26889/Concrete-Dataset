{
 "cells": [
  {
   "cell_type": "code",
   "execution_count": 3,
   "metadata": {},
   "outputs": [],
   "source": [
    "import numpy as np\n",
    "import pandas as pd\n",
    "import matplotlib.pyplot as plt\n",
    "import seaborn as sns\n",
    "import warnings\n",
    "warnings.filterwarnings('ignore')"
   ]
  },
  {
   "cell_type": "code",
   "execution_count": 2,
   "metadata": {},
   "outputs": [
    {
     "data": {
      "text/html": [
       "<div>\n",
       "<style scoped>\n",
       "    .dataframe tbody tr th:only-of-type {\n",
       "        vertical-align: middle;\n",
       "    }\n",
       "\n",
       "    .dataframe tbody tr th {\n",
       "        vertical-align: top;\n",
       "    }\n",
       "\n",
       "    .dataframe thead th {\n",
       "        text-align: right;\n",
       "    }\n",
       "</style>\n",
       "<table border=\"1\" class=\"dataframe\">\n",
       "  <thead>\n",
       "    <tr style=\"text-align: right;\">\n",
       "      <th></th>\n",
       "      <th>Date</th>\n",
       "      <th>Country</th>\n",
       "      <th>Confirmed</th>\n",
       "      <th>Recovered</th>\n",
       "      <th>Deaths</th>\n",
       "    </tr>\n",
       "  </thead>\n",
       "  <tbody>\n",
       "    <tr>\n",
       "      <th>0</th>\n",
       "      <td>2020-01-22</td>\n",
       "      <td>Afghanistan</td>\n",
       "      <td>0</td>\n",
       "      <td>0</td>\n",
       "      <td>0</td>\n",
       "    </tr>\n",
       "    <tr>\n",
       "      <th>1</th>\n",
       "      <td>2020-01-22</td>\n",
       "      <td>Albania</td>\n",
       "      <td>0</td>\n",
       "      <td>0</td>\n",
       "      <td>0</td>\n",
       "    </tr>\n",
       "    <tr>\n",
       "      <th>2</th>\n",
       "      <td>2020-01-22</td>\n",
       "      <td>Algeria</td>\n",
       "      <td>0</td>\n",
       "      <td>0</td>\n",
       "      <td>0</td>\n",
       "    </tr>\n",
       "    <tr>\n",
       "      <th>3</th>\n",
       "      <td>2020-01-22</td>\n",
       "      <td>Andorra</td>\n",
       "      <td>0</td>\n",
       "      <td>0</td>\n",
       "      <td>0</td>\n",
       "    </tr>\n",
       "    <tr>\n",
       "      <th>4</th>\n",
       "      <td>2020-01-22</td>\n",
       "      <td>Angola</td>\n",
       "      <td>0</td>\n",
       "      <td>0</td>\n",
       "      <td>0</td>\n",
       "    </tr>\n",
       "    <tr>\n",
       "      <th>...</th>\n",
       "      <td>...</td>\n",
       "      <td>...</td>\n",
       "      <td>...</td>\n",
       "      <td>...</td>\n",
       "      <td>...</td>\n",
       "    </tr>\n",
       "    <tr>\n",
       "      <th>23683</th>\n",
       "      <td>2020-05-26</td>\n",
       "      <td>West Bank and Gaza</td>\n",
       "      <td>429</td>\n",
       "      <td>365</td>\n",
       "      <td>3</td>\n",
       "    </tr>\n",
       "    <tr>\n",
       "      <th>23684</th>\n",
       "      <td>2020-05-26</td>\n",
       "      <td>Western Sahara</td>\n",
       "      <td>9</td>\n",
       "      <td>6</td>\n",
       "      <td>1</td>\n",
       "    </tr>\n",
       "    <tr>\n",
       "      <th>23685</th>\n",
       "      <td>2020-05-26</td>\n",
       "      <td>Yemen</td>\n",
       "      <td>249</td>\n",
       "      <td>10</td>\n",
       "      <td>49</td>\n",
       "    </tr>\n",
       "    <tr>\n",
       "      <th>23686</th>\n",
       "      <td>2020-05-26</td>\n",
       "      <td>Zambia</td>\n",
       "      <td>920</td>\n",
       "      <td>336</td>\n",
       "      <td>7</td>\n",
       "    </tr>\n",
       "    <tr>\n",
       "      <th>23687</th>\n",
       "      <td>2020-05-26</td>\n",
       "      <td>Zimbabwe</td>\n",
       "      <td>56</td>\n",
       "      <td>25</td>\n",
       "      <td>4</td>\n",
       "    </tr>\n",
       "  </tbody>\n",
       "</table>\n",
       "<p>23688 rows × 5 columns</p>\n",
       "</div>"
      ],
      "text/plain": [
       "             Date             Country  Confirmed  Recovered  Deaths\n",
       "0      2020-01-22         Afghanistan          0          0       0\n",
       "1      2020-01-22             Albania          0          0       0\n",
       "2      2020-01-22             Algeria          0          0       0\n",
       "3      2020-01-22             Andorra          0          0       0\n",
       "4      2020-01-22              Angola          0          0       0\n",
       "...           ...                 ...        ...        ...     ...\n",
       "23683  2020-05-26  West Bank and Gaza        429        365       3\n",
       "23684  2020-05-26      Western Sahara          9          6       1\n",
       "23685  2020-05-26               Yemen        249         10      49\n",
       "23686  2020-05-26              Zambia        920        336       7\n",
       "23687  2020-05-26            Zimbabwe         56         25       4\n",
       "\n",
       "[23688 rows x 5 columns]"
      ]
     },
     "execution_count": 2,
     "metadata": {},
     "output_type": "execute_result"
    }
   ],
   "source": [
    "df=pd.read_csv('coronavirus.csv')\n",
    "df"
   ]
  },
  {
   "cell_type": "code",
   "execution_count": 3,
   "metadata": {},
   "outputs": [
    {
     "data": {
      "text/plain": [
       "Date         0\n",
       "Country      0\n",
       "Confirmed    0\n",
       "Recovered    0\n",
       "Deaths       0\n",
       "dtype: int64"
      ]
     },
     "execution_count": 3,
     "metadata": {},
     "output_type": "execute_result"
    }
   ],
   "source": [
    "df.isnull().sum()"
   ]
  },
  {
   "cell_type": "code",
   "execution_count": 4,
   "metadata": {},
   "outputs": [
    {
     "name": "stdout",
     "output_type": "stream",
     "text": [
      "<class 'pandas.core.frame.DataFrame'>\n",
      "RangeIndex: 23688 entries, 0 to 23687\n",
      "Data columns (total 5 columns):\n",
      " #   Column     Non-Null Count  Dtype \n",
      "---  ------     --------------  ----- \n",
      " 0   Date       23688 non-null  object\n",
      " 1   Country    23688 non-null  object\n",
      " 2   Confirmed  23688 non-null  int64 \n",
      " 3   Recovered  23688 non-null  int64 \n",
      " 4   Deaths     23688 non-null  int64 \n",
      "dtypes: int64(3), object(2)\n",
      "memory usage: 925.4+ KB\n"
     ]
    }
   ],
   "source": [
    "df.info()"
   ]
  },
  {
   "cell_type": "code",
   "execution_count": 5,
   "metadata": {},
   "outputs": [
    {
     "data": {
      "text/html": [
       "<div>\n",
       "<style scoped>\n",
       "    .dataframe tbody tr th:only-of-type {\n",
       "        vertical-align: middle;\n",
       "    }\n",
       "\n",
       "    .dataframe tbody tr th {\n",
       "        vertical-align: top;\n",
       "    }\n",
       "\n",
       "    .dataframe thead th {\n",
       "        text-align: right;\n",
       "    }\n",
       "</style>\n",
       "<table border=\"1\" class=\"dataframe\">\n",
       "  <thead>\n",
       "    <tr style=\"text-align: right;\">\n",
       "      <th></th>\n",
       "      <th>Confirmed</th>\n",
       "      <th>Recovered</th>\n",
       "      <th>Deaths</th>\n",
       "    </tr>\n",
       "  </thead>\n",
       "  <tbody>\n",
       "    <tr>\n",
       "      <th>Confirmed</th>\n",
       "      <td>1.000000</td>\n",
       "      <td>0.810991</td>\n",
       "      <td>0.929718</td>\n",
       "    </tr>\n",
       "    <tr>\n",
       "      <th>Recovered</th>\n",
       "      <td>0.810991</td>\n",
       "      <td>1.000000</td>\n",
       "      <td>0.778094</td>\n",
       "    </tr>\n",
       "    <tr>\n",
       "      <th>Deaths</th>\n",
       "      <td>0.929718</td>\n",
       "      <td>0.778094</td>\n",
       "      <td>1.000000</td>\n",
       "    </tr>\n",
       "  </tbody>\n",
       "</table>\n",
       "</div>"
      ],
      "text/plain": [
       "           Confirmed  Recovered    Deaths\n",
       "Confirmed   1.000000   0.810991  0.929718\n",
       "Recovered   0.810991   1.000000  0.778094\n",
       "Deaths      0.929718   0.778094  1.000000"
      ]
     },
     "execution_count": 5,
     "metadata": {},
     "output_type": "execute_result"
    }
   ],
   "source": [
    "df.corr()"
   ]
  },
  {
   "cell_type": "code",
   "execution_count": 6,
   "metadata": {},
   "outputs": [],
   "source": [
    "from sklearn.preprocessing import LabelEncoder"
   ]
  },
  {
   "cell_type": "code",
   "execution_count": 7,
   "metadata": {},
   "outputs": [],
   "source": [
    "le=LabelEncoder()"
   ]
  },
  {
   "cell_type": "code",
   "execution_count": 10,
   "metadata": {},
   "outputs": [],
   "source": [
    "df['Date']=le.fit_transform(df['Date'].astype('str'))\n",
    "df['Country']=le.fit_transform(df['Country'].astype('str'))"
   ]
  },
  {
   "cell_type": "code",
   "execution_count": 11,
   "metadata": {},
   "outputs": [
    {
     "name": "stdout",
     "output_type": "stream",
     "text": [
      "<class 'pandas.core.frame.DataFrame'>\n",
      "RangeIndex: 23688 entries, 0 to 23687\n",
      "Data columns (total 5 columns):\n",
      " #   Column     Non-Null Count  Dtype\n",
      "---  ------     --------------  -----\n",
      " 0   Date       23688 non-null  int32\n",
      " 1   Country    23688 non-null  int32\n",
      " 2   Confirmed  23688 non-null  int64\n",
      " 3   Recovered  23688 non-null  int64\n",
      " 4   Deaths     23688 non-null  int64\n",
      "dtypes: int32(2), int64(3)\n",
      "memory usage: 740.4 KB\n"
     ]
    }
   ],
   "source": [
    "df.info()"
   ]
  },
  {
   "cell_type": "code",
   "execution_count": 12,
   "metadata": {},
   "outputs": [
    {
     "data": {
      "text/html": [
       "<div>\n",
       "<style scoped>\n",
       "    .dataframe tbody tr th:only-of-type {\n",
       "        vertical-align: middle;\n",
       "    }\n",
       "\n",
       "    .dataframe tbody tr th {\n",
       "        vertical-align: top;\n",
       "    }\n",
       "\n",
       "    .dataframe thead th {\n",
       "        text-align: right;\n",
       "    }\n",
       "</style>\n",
       "<table border=\"1\" class=\"dataframe\">\n",
       "  <thead>\n",
       "    <tr style=\"text-align: right;\">\n",
       "      <th></th>\n",
       "      <th>Date</th>\n",
       "      <th>Country</th>\n",
       "      <th>Confirmed</th>\n",
       "      <th>Recovered</th>\n",
       "      <th>Deaths</th>\n",
       "    </tr>\n",
       "  </thead>\n",
       "  <tbody>\n",
       "    <tr>\n",
       "      <th>0</th>\n",
       "      <td>0</td>\n",
       "      <td>0</td>\n",
       "      <td>0</td>\n",
       "      <td>0</td>\n",
       "      <td>0</td>\n",
       "    </tr>\n",
       "    <tr>\n",
       "      <th>1</th>\n",
       "      <td>0</td>\n",
       "      <td>1</td>\n",
       "      <td>0</td>\n",
       "      <td>0</td>\n",
       "      <td>0</td>\n",
       "    </tr>\n",
       "    <tr>\n",
       "      <th>2</th>\n",
       "      <td>0</td>\n",
       "      <td>2</td>\n",
       "      <td>0</td>\n",
       "      <td>0</td>\n",
       "      <td>0</td>\n",
       "    </tr>\n",
       "    <tr>\n",
       "      <th>3</th>\n",
       "      <td>0</td>\n",
       "      <td>3</td>\n",
       "      <td>0</td>\n",
       "      <td>0</td>\n",
       "      <td>0</td>\n",
       "    </tr>\n",
       "    <tr>\n",
       "      <th>4</th>\n",
       "      <td>0</td>\n",
       "      <td>4</td>\n",
       "      <td>0</td>\n",
       "      <td>0</td>\n",
       "      <td>0</td>\n",
       "    </tr>\n",
       "    <tr>\n",
       "      <th>5</th>\n",
       "      <td>0</td>\n",
       "      <td>5</td>\n",
       "      <td>0</td>\n",
       "      <td>0</td>\n",
       "      <td>0</td>\n",
       "    </tr>\n",
       "    <tr>\n",
       "      <th>6</th>\n",
       "      <td>0</td>\n",
       "      <td>6</td>\n",
       "      <td>0</td>\n",
       "      <td>0</td>\n",
       "      <td>0</td>\n",
       "    </tr>\n",
       "    <tr>\n",
       "      <th>7</th>\n",
       "      <td>0</td>\n",
       "      <td>7</td>\n",
       "      <td>0</td>\n",
       "      <td>0</td>\n",
       "      <td>0</td>\n",
       "    </tr>\n",
       "    <tr>\n",
       "      <th>8</th>\n",
       "      <td>0</td>\n",
       "      <td>8</td>\n",
       "      <td>0</td>\n",
       "      <td>0</td>\n",
       "      <td>0</td>\n",
       "    </tr>\n",
       "    <tr>\n",
       "      <th>9</th>\n",
       "      <td>0</td>\n",
       "      <td>9</td>\n",
       "      <td>0</td>\n",
       "      <td>0</td>\n",
       "      <td>0</td>\n",
       "    </tr>\n",
       "  </tbody>\n",
       "</table>\n",
       "</div>"
      ],
      "text/plain": [
       "   Date  Country  Confirmed  Recovered  Deaths\n",
       "0     0        0          0          0       0\n",
       "1     0        1          0          0       0\n",
       "2     0        2          0          0       0\n",
       "3     0        3          0          0       0\n",
       "4     0        4          0          0       0\n",
       "5     0        5          0          0       0\n",
       "6     0        6          0          0       0\n",
       "7     0        7          0          0       0\n",
       "8     0        8          0          0       0\n",
       "9     0        9          0          0       0"
      ]
     },
     "execution_count": 12,
     "metadata": {},
     "output_type": "execute_result"
    }
   ],
   "source": [
    "df.head(10)"
   ]
  },
  {
   "cell_type": "code",
   "execution_count": 13,
   "metadata": {},
   "outputs": [
    {
     "data": {
      "text/html": [
       "<div>\n",
       "<style scoped>\n",
       "    .dataframe tbody tr th:only-of-type {\n",
       "        vertical-align: middle;\n",
       "    }\n",
       "\n",
       "    .dataframe tbody tr th {\n",
       "        vertical-align: top;\n",
       "    }\n",
       "\n",
       "    .dataframe thead th {\n",
       "        text-align: right;\n",
       "    }\n",
       "</style>\n",
       "<table border=\"1\" class=\"dataframe\">\n",
       "  <thead>\n",
       "    <tr style=\"text-align: right;\">\n",
       "      <th></th>\n",
       "      <th>Date</th>\n",
       "      <th>Country</th>\n",
       "      <th>Confirmed</th>\n",
       "      <th>Recovered</th>\n",
       "      <th>Deaths</th>\n",
       "    </tr>\n",
       "  </thead>\n",
       "  <tbody>\n",
       "    <tr>\n",
       "      <th>23678</th>\n",
       "      <td>50</td>\n",
       "      <td>178</td>\n",
       "      <td>266599</td>\n",
       "      <td>1161</td>\n",
       "      <td>37130</td>\n",
       "    </tr>\n",
       "    <tr>\n",
       "      <th>23679</th>\n",
       "      <td>50</td>\n",
       "      <td>179</td>\n",
       "      <td>789</td>\n",
       "      <td>638</td>\n",
       "      <td>22</td>\n",
       "    </tr>\n",
       "    <tr>\n",
       "      <th>23680</th>\n",
       "      <td>50</td>\n",
       "      <td>180</td>\n",
       "      <td>3290</td>\n",
       "      <td>2636</td>\n",
       "      <td>14</td>\n",
       "    </tr>\n",
       "    <tr>\n",
       "      <th>23681</th>\n",
       "      <td>50</td>\n",
       "      <td>181</td>\n",
       "      <td>1211</td>\n",
       "      <td>302</td>\n",
       "      <td>11</td>\n",
       "    </tr>\n",
       "    <tr>\n",
       "      <th>23682</th>\n",
       "      <td>50</td>\n",
       "      <td>182</td>\n",
       "      <td>327</td>\n",
       "      <td>272</td>\n",
       "      <td>0</td>\n",
       "    </tr>\n",
       "    <tr>\n",
       "      <th>23683</th>\n",
       "      <td>50</td>\n",
       "      <td>183</td>\n",
       "      <td>429</td>\n",
       "      <td>365</td>\n",
       "      <td>3</td>\n",
       "    </tr>\n",
       "    <tr>\n",
       "      <th>23684</th>\n",
       "      <td>50</td>\n",
       "      <td>184</td>\n",
       "      <td>9</td>\n",
       "      <td>6</td>\n",
       "      <td>1</td>\n",
       "    </tr>\n",
       "    <tr>\n",
       "      <th>23685</th>\n",
       "      <td>50</td>\n",
       "      <td>185</td>\n",
       "      <td>249</td>\n",
       "      <td>10</td>\n",
       "      <td>49</td>\n",
       "    </tr>\n",
       "    <tr>\n",
       "      <th>23686</th>\n",
       "      <td>50</td>\n",
       "      <td>186</td>\n",
       "      <td>920</td>\n",
       "      <td>336</td>\n",
       "      <td>7</td>\n",
       "    </tr>\n",
       "    <tr>\n",
       "      <th>23687</th>\n",
       "      <td>50</td>\n",
       "      <td>187</td>\n",
       "      <td>56</td>\n",
       "      <td>25</td>\n",
       "      <td>4</td>\n",
       "    </tr>\n",
       "  </tbody>\n",
       "</table>\n",
       "</div>"
      ],
      "text/plain": [
       "       Date  Country  Confirmed  Recovered  Deaths\n",
       "23678    50      178     266599       1161   37130\n",
       "23679    50      179        789        638      22\n",
       "23680    50      180       3290       2636      14\n",
       "23681    50      181       1211        302      11\n",
       "23682    50      182        327        272       0\n",
       "23683    50      183        429        365       3\n",
       "23684    50      184          9          6       1\n",
       "23685    50      185        249         10      49\n",
       "23686    50      186        920        336       7\n",
       "23687    50      187         56         25       4"
      ]
     },
     "execution_count": 13,
     "metadata": {},
     "output_type": "execute_result"
    }
   ],
   "source": [
    "df.tail(10)"
   ]
  },
  {
   "cell_type": "code",
   "execution_count": 14,
   "metadata": {},
   "outputs": [
    {
     "data": {
      "text/html": [
       "<div>\n",
       "<style scoped>\n",
       "    .dataframe tbody tr th:only-of-type {\n",
       "        vertical-align: middle;\n",
       "    }\n",
       "\n",
       "    .dataframe tbody tr th {\n",
       "        vertical-align: top;\n",
       "    }\n",
       "\n",
       "    .dataframe thead th {\n",
       "        text-align: right;\n",
       "    }\n",
       "</style>\n",
       "<table border=\"1\" class=\"dataframe\">\n",
       "  <thead>\n",
       "    <tr style=\"text-align: right;\">\n",
       "      <th></th>\n",
       "      <th>Date</th>\n",
       "      <th>Country</th>\n",
       "      <th>Confirmed</th>\n",
       "      <th>Recovered</th>\n",
       "      <th>Deaths</th>\n",
       "    </tr>\n",
       "  </thead>\n",
       "  <tbody>\n",
       "    <tr>\n",
       "      <th>Date</th>\n",
       "      <td>1.000000</td>\n",
       "      <td>0.000000</td>\n",
       "      <td>-0.067560</td>\n",
       "      <td>-0.084026</td>\n",
       "      <td>-0.071036</td>\n",
       "    </tr>\n",
       "    <tr>\n",
       "      <th>Country</th>\n",
       "      <td>0.000000</td>\n",
       "      <td>1.000000</td>\n",
       "      <td>0.069204</td>\n",
       "      <td>0.019298</td>\n",
       "      <td>0.064954</td>\n",
       "    </tr>\n",
       "    <tr>\n",
       "      <th>Confirmed</th>\n",
       "      <td>-0.067560</td>\n",
       "      <td>0.069204</td>\n",
       "      <td>1.000000</td>\n",
       "      <td>0.810991</td>\n",
       "      <td>0.929718</td>\n",
       "    </tr>\n",
       "    <tr>\n",
       "      <th>Recovered</th>\n",
       "      <td>-0.084026</td>\n",
       "      <td>0.019298</td>\n",
       "      <td>0.810991</td>\n",
       "      <td>1.000000</td>\n",
       "      <td>0.778094</td>\n",
       "    </tr>\n",
       "    <tr>\n",
       "      <th>Deaths</th>\n",
       "      <td>-0.071036</td>\n",
       "      <td>0.064954</td>\n",
       "      <td>0.929718</td>\n",
       "      <td>0.778094</td>\n",
       "      <td>1.000000</td>\n",
       "    </tr>\n",
       "  </tbody>\n",
       "</table>\n",
       "</div>"
      ],
      "text/plain": [
       "               Date   Country  Confirmed  Recovered    Deaths\n",
       "Date       1.000000  0.000000  -0.067560  -0.084026 -0.071036\n",
       "Country    0.000000  1.000000   0.069204   0.019298  0.064954\n",
       "Confirmed -0.067560  0.069204   1.000000   0.810991  0.929718\n",
       "Recovered -0.084026  0.019298   0.810991   1.000000  0.778094\n",
       "Deaths    -0.071036  0.064954   0.929718   0.778094  1.000000"
      ]
     },
     "execution_count": 14,
     "metadata": {},
     "output_type": "execute_result"
    }
   ],
   "source": [
    "df.corr()"
   ]
  },
  {
   "cell_type": "code",
   "execution_count": 15,
   "metadata": {},
   "outputs": [
    {
     "data": {
      "text/plain": [
       "<matplotlib.axes._subplots.AxesSubplot at 0x18228100d08>"
      ]
     },
     "execution_count": 15,
     "metadata": {},
     "output_type": "execute_result"
    },
    {
     "data": {
      "image/png": "[encoded data removed]",
      "text/plain": [
       "<Figure size 432x288 with 2 Axes>"
      ]
     },
     "metadata": {
      "needs_background": "light"
     },
     "output_type": "display_data"
    }
   ],
   "source": [
    "sns.heatmap(df.corr())"
   ]
  },
  {
   "cell_type": "code",
   "execution_count": 16,
   "metadata": {},
   "outputs": [],
   "source": [
    "# From the above Heatmap we can analyse that there is high corelation between confirmed cases and recovered cases and Deaths"
   ]
  },
  {
   "cell_type": "code",
   "execution_count": 19,
   "metadata": {},
   "outputs": [
    {
     "data": {
      "text/plain": [
       "<matplotlib.axes._subplots.AxesSubplot at 0x18228323d08>"
      ]
     },
     "execution_count": 19,
     "metadata": {},
     "output_type": "execute_result"
    },
    {
     "data": {
      "image/png": "[encoded data removed]",
      "text/plain": [
       "<Figure size 432x288 with 2 Axes>"
      ]
     },
     "metadata": {
      "needs_background": "light"
     },
     "output_type": "display_data"
    }
   ],
   "source": [
    "sns.heatmap(df.isnull())"
   ]
  },
  {
   "cell_type": "code",
   "execution_count": 18,
   "metadata": {},
   "outputs": [],
   "source": [
    "#From the Above figure we can see that there is no Null-values present in this data"
   ]
  },
  {
   "cell_type": "code",
   "execution_count": 20,
   "metadata": {},
   "outputs": [
    {
     "data": {
      "text/html": [
       "<div>\n",
       "<style scoped>\n",
       "    .dataframe tbody tr th:only-of-type {\n",
       "        vertical-align: middle;\n",
       "    }\n",
       "\n",
       "    .dataframe tbody tr th {\n",
       "        vertical-align: top;\n",
       "    }\n",
       "\n",
       "    .dataframe thead th {\n",
       "        text-align: right;\n",
       "    }\n",
       "</style>\n",
       "<table border=\"1\" class=\"dataframe\">\n",
       "  <thead>\n",
       "    <tr style=\"text-align: right;\">\n",
       "      <th></th>\n",
       "      <th>Date</th>\n",
       "      <th>Country</th>\n",
       "      <th>Confirmed</th>\n",
       "      <th>Recovered</th>\n",
       "      <th>Deaths</th>\n",
       "    </tr>\n",
       "  </thead>\n",
       "  <tbody>\n",
       "    <tr>\n",
       "      <th>count</th>\n",
       "      <td>23688.000000</td>\n",
       "      <td>23688.000000</td>\n",
       "      <td>2.368800e+04</td>\n",
       "      <td>23688.000000</td>\n",
       "      <td>23688.000000</td>\n",
       "    </tr>\n",
       "    <tr>\n",
       "      <th>mean</th>\n",
       "      <td>62.500000</td>\n",
       "      <td>93.500000</td>\n",
       "      <td>7.969368e+03</td>\n",
       "      <td>2581.801714</td>\n",
       "      <td>526.935030</td>\n",
       "    </tr>\n",
       "    <tr>\n",
       "      <th>std</th>\n",
       "      <td>36.372689</td>\n",
       "      <td>54.271303</td>\n",
       "      <td>5.842109e+04</td>\n",
       "      <td>15143.101257</td>\n",
       "      <td>3992.815956</td>\n",
       "    </tr>\n",
       "    <tr>\n",
       "      <th>min</th>\n",
       "      <td>0.000000</td>\n",
       "      <td>0.000000</td>\n",
       "      <td>0.000000e+00</td>\n",
       "      <td>0.000000</td>\n",
       "      <td>0.000000</td>\n",
       "    </tr>\n",
       "    <tr>\n",
       "      <th>25%</th>\n",
       "      <td>31.000000</td>\n",
       "      <td>46.750000</td>\n",
       "      <td>0.000000e+00</td>\n",
       "      <td>0.000000</td>\n",
       "      <td>0.000000</td>\n",
       "    </tr>\n",
       "    <tr>\n",
       "      <th>50%</th>\n",
       "      <td>62.500000</td>\n",
       "      <td>93.500000</td>\n",
       "      <td>1.800000e+01</td>\n",
       "      <td>1.000000</td>\n",
       "      <td>0.000000</td>\n",
       "    </tr>\n",
       "    <tr>\n",
       "      <th>75%</th>\n",
       "      <td>94.000000</td>\n",
       "      <td>140.250000</td>\n",
       "      <td>7.300000e+02</td>\n",
       "      <td>123.000000</td>\n",
       "      <td>13.000000</td>\n",
       "    </tr>\n",
       "    <tr>\n",
       "      <th>max</th>\n",
       "      <td>125.000000</td>\n",
       "      <td>187.000000</td>\n",
       "      <td>1.680913e+06</td>\n",
       "      <td>384902.000000</td>\n",
       "      <td>98913.000000</td>\n",
       "    </tr>\n",
       "  </tbody>\n",
       "</table>\n",
       "</div>"
      ],
      "text/plain": [
       "               Date       Country     Confirmed      Recovered        Deaths\n",
       "count  23688.000000  23688.000000  2.368800e+04   23688.000000  23688.000000\n",
       "mean      62.500000     93.500000  7.969368e+03    2581.801714    526.935030\n",
       "std       36.372689     54.271303  5.842109e+04   15143.101257   3992.815956\n",
       "min        0.000000      0.000000  0.000000e+00       0.000000      0.000000\n",
       "25%       31.000000     46.750000  0.000000e+00       0.000000      0.000000\n",
       "50%       62.500000     93.500000  1.800000e+01       1.000000      0.000000\n",
       "75%       94.000000    140.250000  7.300000e+02     123.000000     13.000000\n",
       "max      125.000000    187.000000  1.680913e+06  384902.000000  98913.000000"
      ]
     },
     "execution_count": 20,
     "metadata": {},
     "output_type": "execute_result"
    }
   ],
   "source": [
    "df.describe()"
   ]
  },
  {
   "cell_type": "code",
   "execution_count": 21,
   "metadata": {},
   "outputs": [
    {
     "data": {
      "text/plain": [
       "<matplotlib.axes._subplots.AxesSubplot at 0x1822831bec8>"
      ]
     },
     "execution_count": 21,
     "metadata": {},
     "output_type": "execute_result"
    },
    {
     "data": {
      "image/png": "[encoded data removed]",
      "text/plain": [
       "<Figure size 432x288 with 1 Axes>"
      ]
     },
     "metadata": {
      "needs_background": "light"
     },
     "output_type": "display_data"
    }
   ],
   "source": [
    "sns.boxplot(df['Country'])"
   ]
  },
  {
   "cell_type": "code",
   "execution_count": 22,
   "metadata": {},
   "outputs": [
    {
     "data": {
      "text/plain": [
       "<matplotlib.axes._subplots.AxesSubplot at 0x1826f50b848>"
      ]
     },
     "execution_count": 22,
     "metadata": {},
     "output_type": "execute_result"
    },
    {
     "data": {
      "image/png": "[encoded data removed]",
      "text/plain": [
       "<Figure size 432x288 with 1 Axes>"
      ]
     },
     "metadata": {
      "needs_background": "light"
     },
     "output_type": "display_data"
    }
   ],
   "source": [
    "sns.boxplot(df['Confirmed'])"
   ]
  },
  {
   "cell_type": "code",
   "execution_count": 24,
   "metadata": {},
   "outputs": [
    {
     "data": {
      "text/plain": [
       "<matplotlib.axes._subplots.AxesSubplot at 0x182681bd048>"
      ]
     },
     "execution_count": 24,
     "metadata": {},
     "output_type": "execute_result"
    },
    {
     "data": {
      "image/png": "[encoded data removed]",
      "text/plain": [
       "<Figure size 432x288 with 1 Axes>"
      ]
     },
     "metadata": {
      "needs_background": "light"
     },
     "output_type": "display_data"
    }
   ],
   "source": [
    "df['Recovered'].plot.box()"
   ]
  },
  {
   "cell_type": "code",
   "execution_count": 26,
   "metadata": {},
   "outputs": [
    {
     "data": {
      "image/png": "[encoded data removed]",
      "text/plain": [
       "<Figure size 432x288 with 1 Axes>"
      ]
     },
     "metadata": {
      "needs_background": "light"
     },
     "output_type": "display_data"
    }
   ],
   "source": [
    "plt.boxplot(df['Deaths'])\n",
    "plt.show()"
   ]
  },
  {
   "cell_type": "code",
   "execution_count": 27,
   "metadata": {},
   "outputs": [],
   "source": [
    "# From the AboveBoxPlots we can see that there are many outliers present in this Data set"
   ]
  },
  {
   "cell_type": "code",
   "execution_count": 28,
   "metadata": {},
   "outputs": [
    {
     "data": {
      "text/plain": [
       "<seaborn.axisgrid.PairGrid at 0x1826890f2c8>"
      ]
     },
     "execution_count": 28,
     "metadata": {},
     "output_type": "execute_result"
    },
    {
     "data": {
      "image/png": "[encoded data removed]",
      "text/plain": [
       "<Figure size 900x900 with 30 Axes>"
      ]
     },
     "metadata": {
      "needs_background": "light"
     },
     "output_type": "display_data"
    }
   ],
   "source": [
    "sns.pairplot(df)"
   ]
  },
  {
   "cell_type": "code",
   "execution_count": 29,
   "metadata": {},
   "outputs": [],
   "source": [
    "# To remove the out Liers"
   ]
  },
  {
   "cell_type": "code",
   "execution_count": 30,
   "metadata": {},
   "outputs": [],
   "source": [
    "from scipy.stats import zscore"
   ]
  },
  {
   "cell_type": "code",
   "execution_count": 31,
   "metadata": {},
   "outputs": [
    {
     "data": {
      "text/plain": [
       "array([[1.71835849, 1.72286214, 0.13641539, 0.17049719, 0.13197356],\n",
       "       [1.71835849, 1.70443581, 0.13641539, 0.17049719, 0.13197356],\n",
       "       [1.71835849, 1.68600948, 0.13641539, 0.17049719, 0.13197356],\n",
       "       ...,\n",
       "       [0.3436717 , 1.68600948, 0.13215314, 0.16983681, 0.11970126],\n",
       "       [0.3436717 , 1.70443581, 0.12066732, 0.1483084 , 0.13022038],\n",
       "       [0.3436717 , 1.72286214, 0.13545681, 0.16884624, 0.13097174]])"
      ]
     },
     "execution_count": 31,
     "metadata": {},
     "output_type": "execute_result"
    }
   ],
   "source": [
    "z=np.abs(zscore(df))\n",
    "z"
   ]
  },
  {
   "cell_type": "code",
   "execution_count": 32,
   "metadata": {},
   "outputs": [
    {
     "data": {
      "text/plain": [
       "(array([ 7932,  8120,  8308,  8496,  8684,  8872,  9060,  9248,  9436,\n",
       "         9624,  9812, 10000, 10188, 10376, 10564, 10752, 10940, 11128,\n",
       "        11316, 11504, 11692, 11880, 12068, 12256, 12444, 12632, 12820,\n",
       "        13008, 13146, 13196, 13245, 13334, 13384, 13433, 13522, 13572,\n",
       "        13621, 13710, 13760, 13809, 13898, 13948, 13997, 14070, 14086,\n",
       "        14136, 14185, 14258, 14274, 14274, 14324, 14373, 14446, 14462,\n",
       "        14462, 14512, 14561, 14634, 14634, 14650, 14650, 14700, 14730,\n",
       "        14749, 14822, 14822, 14838, 14838, 14888, 14914, 14918, 14937,\n",
       "        15010, 15010, 15026, 15026, 15076, 15102, 15106, 15125, 15198,\n",
       "        15198, 15214, 15214, 15264, 15290, 15294, 15313, 15386, 15386,\n",
       "        15402, 15402, 15452, 15478, 15482, 15501, 15574, 15574, 15590,\n",
       "        15590, 15594, 15640, 15666, 15670, 15685, 15689, 15762, 15762,\n",
       "        15778, 15778, 15782, 15828, 15854, 15858, 15873, 15877, 15950,\n",
       "        15950, 15966, 15966, 15966, 15970, 16016, 16042, 16046, 16061,\n",
       "        16065, 16138, 16138, 16138, 16154, 16154, 16154, 16158, 16204,\n",
       "        16230, 16234, 16249, 16253, 16326, 16326, 16326, 16342, 16342,\n",
       "        16342, 16346, 16392, 16418, 16422, 16437, 16441, 16514, 16514,\n",
       "        16514, 16530, 16530, 16530, 16534, 16580, 16606, 16610, 16625,\n",
       "        16629, 16702, 16702, 16702, 16718, 16718, 16718, 16722, 16768,\n",
       "        16794, 16798, 16813, 16817, 16817, 16890, 16890, 16890, 16906,\n",
       "        16906, 16906, 16910, 16956, 16982, 16986, 17001, 17005, 17005,\n",
       "        17005, 17078, 17078, 17078, 17094, 17094, 17094, 17098, 17144,\n",
       "        17170, 17174, 17189, 17193, 17193, 17193, 17266, 17266, 17266,\n",
       "        17282, 17282, 17282, 17286, 17332, 17358, 17362, 17377, 17381,\n",
       "        17381, 17381, 17454, 17454, 17454, 17470, 17470, 17470, 17474,\n",
       "        17520, 17546, 17550, 17565, 17569, 17569, 17569, 17642, 17642,\n",
       "        17642, 17658, 17658, 17658, 17662, 17708, 17734, 17738, 17753,\n",
       "        17757, 17757, 17757, 17830, 17830, 17830, 17846, 17846, 17846,\n",
       "        17850, 17896, 17922, 17926, 17941, 17945, 17945, 17945, 18018,\n",
       "        18018, 18018, 18034, 18034, 18034, 18038, 18084, 18110, 18114,\n",
       "        18129, 18133, 18133, 18133, 18206, 18206, 18206, 18222, 18222,\n",
       "        18222, 18226, 18272, 18298, 18302, 18317, 18321, 18321, 18321,\n",
       "        18394, 18394, 18394, 18410, 18410, 18410, 18414, 18460, 18486,\n",
       "        18486, 18490, 18505, 18509, 18509, 18509, 18582, 18582, 18582,\n",
       "        18598, 18598, 18598, 18602, 18648, 18674, 18674, 18678, 18693,\n",
       "        18697, 18697, 18697, 18770, 18770, 18770, 18785, 18786, 18786,\n",
       "        18786, 18790, 18836, 18862, 18862, 18866, 18881, 18885, 18885,\n",
       "        18885, 18958, 18958, 18958, 18973, 18974, 18974, 18974, 18978,\n",
       "        19024, 19050, 19050, 19054, 19069, 19073, 19073, 19073, 19146,\n",
       "        19146, 19146, 19161, 19162, 19162, 19162, 19166, 19166, 19212,\n",
       "        19238, 19238, 19242, 19257, 19261, 19261, 19261, 19334, 19334,\n",
       "        19334, 19349, 19350, 19350, 19350, 19354, 19354, 19400, 19426,\n",
       "        19426, 19430, 19445, 19449, 19449, 19449, 19522, 19522, 19522,\n",
       "        19537, 19538, 19538, 19538, 19542, 19542, 19575, 19588, 19614,\n",
       "        19614, 19618, 19633, 19637, 19637, 19637, 19710, 19710, 19710,\n",
       "        19725, 19726, 19726, 19726, 19730, 19730, 19763, 19776, 19802,\n",
       "        19802, 19806, 19821, 19825, 19825, 19825, 19898, 19898, 19898,\n",
       "        19913, 19914, 19914, 19914, 19918, 19918, 19951, 19964, 19990,\n",
       "        19990, 19994, 20009, 20013, 20013, 20013, 20086, 20086, 20086,\n",
       "        20101, 20102, 20102, 20102, 20106, 20106, 20139, 20152, 20178,\n",
       "        20178, 20182, 20197, 20201, 20201, 20201, 20256, 20274, 20274,\n",
       "        20274, 20289, 20290, 20290, 20290, 20294, 20294, 20327, 20340,\n",
       "        20366, 20366, 20370, 20385, 20389, 20389, 20389, 20444, 20462,\n",
       "        20462, 20462, 20477, 20478, 20478, 20478, 20482, 20482, 20515,\n",
       "        20528, 20554, 20554, 20558, 20573, 20577, 20577, 20577, 20632,\n",
       "        20650, 20650, 20650, 20665, 20666, 20666, 20666, 20670, 20670,\n",
       "        20703, 20716, 20742, 20742, 20746, 20761, 20765, 20765, 20765,\n",
       "        20820, 20838, 20838, 20838, 20853, 20854, 20854, 20854, 20858,\n",
       "        20858, 20891, 20904, 20930, 20930, 20934, 20949, 20953, 20953,\n",
       "        20953, 21008, 21026, 21026, 21026, 21041, 21042, 21042, 21042,\n",
       "        21046, 21046, 21079, 21079, 21079, 21092, 21118, 21118, 21122,\n",
       "        21137, 21141, 21141, 21141, 21196, 21214, 21214, 21214, 21229,\n",
       "        21230, 21230, 21230, 21234, 21234, 21267, 21267, 21267, 21280,\n",
       "        21306, 21306, 21310, 21325, 21329, 21329, 21329, 21384, 21384,\n",
       "        21402, 21402, 21402, 21417, 21418, 21418, 21418, 21422, 21422,\n",
       "        21455, 21455, 21455, 21468, 21494, 21494, 21498, 21513, 21517,\n",
       "        21517, 21517, 21572, 21572, 21590, 21590, 21590, 21605, 21606,\n",
       "        21606, 21606, 21610, 21610, 21643, 21643, 21643, 21656, 21682,\n",
       "        21682, 21686, 21701, 21705, 21705, 21705, 21760, 21760, 21778,\n",
       "        21778, 21778, 21793, 21794, 21794, 21794, 21798, 21798, 21831,\n",
       "        21831, 21831, 21844, 21870, 21870, 21874, 21889, 21893, 21893,\n",
       "        21893, 21948, 21948, 21966, 21966, 21966, 21981, 21982, 21982,\n",
       "        21982, 21986, 21986, 22019, 22019, 22019, 22032, 22058, 22058,\n",
       "        22062, 22077, 22081, 22081, 22081, 22136, 22136, 22154, 22154,\n",
       "        22154, 22169, 22170, 22170, 22170, 22174, 22174, 22207, 22207,\n",
       "        22207, 22220, 22246, 22246, 22250, 22265, 22269, 22269, 22269,\n",
       "        22324, 22324, 22342, 22342, 22342, 22357, 22358, 22358, 22358,\n",
       "        22362, 22362, 22395, 22395, 22395, 22408, 22434, 22434, 22438,\n",
       "        22453, 22457, 22457, 22457, 22512, 22512, 22530, 22530, 22530,\n",
       "        22545, 22546, 22546, 22546, 22550, 22550, 22583, 22583, 22583,\n",
       "        22596, 22622, 22622, 22626, 22639, 22641, 22645, 22645, 22645,\n",
       "        22700, 22700, 22718, 22718, 22718, 22733, 22734, 22734, 22734,\n",
       "        22738, 22738, 22771, 22771, 22771, 22784, 22810, 22810, 22814,\n",
       "        22827, 22829, 22833, 22833, 22833, 22888, 22888, 22906, 22906,\n",
       "        22906, 22921, 22922, 22922, 22922, 22926, 22926, 22959, 22959,\n",
       "        22959, 22972, 22998, 22998, 23002, 23015, 23017, 23021, 23021,\n",
       "        23021, 23076, 23076, 23094, 23094, 23094, 23109, 23110, 23110,\n",
       "        23110, 23114, 23114, 23147, 23147, 23147, 23160, 23186, 23186,\n",
       "        23190, 23203, 23205, 23209, 23209, 23209, 23258, 23264, 23264,\n",
       "        23282, 23282, 23282, 23297, 23298, 23298, 23298, 23302, 23302,\n",
       "        23335, 23335, 23335, 23348, 23374, 23374, 23378, 23391, 23393,\n",
       "        23397, 23397, 23397, 23425, 23446, 23452, 23452, 23470, 23470,\n",
       "        23470, 23485, 23486, 23486, 23486, 23490, 23490, 23523, 23523,\n",
       "        23523, 23536, 23562, 23562, 23566, 23579, 23581, 23585, 23585,\n",
       "        23585, 23613, 23634, 23640, 23640, 23647, 23658, 23658, 23658,\n",
       "        23673, 23674, 23674, 23674, 23678, 23678], dtype=int64),\n",
       " array([3, 3, 3, 3, 3, 3, 3, 3, 3, 3, 3, 3, 3, 3, 3, 3, 3, 3, 3, 3, 3, 3,\n",
       "        3, 3, 3, 3, 3, 3, 2, 3, 4, 2, 3, 4, 2, 3, 4, 2, 3, 4, 2, 3, 4, 4,\n",
       "        2, 3, 4, 4, 2, 4, 3, 4, 4, 2, 4, 3, 4, 3, 4, 2, 4, 3, 3, 4, 3, 4,\n",
       "        2, 4, 3, 4, 3, 4, 3, 4, 2, 4, 3, 4, 3, 4, 3, 4, 2, 4, 3, 4, 3, 4,\n",
       "        3, 4, 2, 4, 3, 4, 3, 4, 3, 4, 2, 4, 4, 3, 4, 3, 3, 4, 3, 4, 2, 4,\n",
       "        4, 3, 4, 3, 3, 4, 3, 4, 2, 3, 4, 4, 3, 4, 3, 3, 4, 2, 3, 4, 2, 3,\n",
       "        4, 4, 3, 4, 3, 3, 4, 2, 3, 4, 2, 3, 4, 4, 3, 4, 3, 3, 4, 2, 3, 4,\n",
       "        2, 3, 4, 4, 3, 4, 3, 3, 4, 2, 3, 4, 2, 3, 4, 4, 3, 4, 3, 3, 3, 4,\n",
       "        2, 3, 4, 2, 3, 4, 4, 3, 4, 3, 3, 2, 3, 4, 2, 3, 4, 2, 3, 4, 4, 3,\n",
       "        4, 3, 3, 2, 3, 4, 2, 3, 4, 2, 3, 4, 4, 3, 4, 3, 3, 2, 3, 4, 2, 3,\n",
       "        4, 2, 3, 4, 4, 3, 4, 3, 3, 2, 3, 4, 2, 3, 4, 2, 3, 4, 4, 3, 4, 3,\n",
       "        3, 2, 3, 4, 2, 3, 4, 2, 3, 4, 4, 3, 4, 3, 3, 2, 3, 4, 2, 3, 4, 2,\n",
       "        3, 4, 4, 3, 4, 3, 3, 2, 3, 4, 2, 3, 4, 2, 3, 4, 4, 3, 4, 3, 3, 2,\n",
       "        3, 4, 2, 3, 4, 2, 3, 4, 4, 3, 3, 4, 3, 3, 2, 3, 4, 2, 3, 4, 2, 3,\n",
       "        4, 4, 3, 3, 4, 3, 3, 2, 3, 4, 2, 3, 4, 3, 2, 3, 4, 4, 3, 3, 4, 3,\n",
       "        3, 2, 3, 4, 2, 3, 4, 3, 2, 3, 4, 4, 3, 3, 4, 3, 3, 2, 3, 4, 2, 3,\n",
       "        4, 3, 2, 3, 4, 2, 4, 3, 3, 4, 3, 3, 2, 3, 4, 2, 3, 4, 3, 2, 3, 4,\n",
       "        2, 4, 3, 3, 4, 3, 3, 2, 3, 4, 2, 3, 4, 3, 2, 3, 4, 2, 4, 3, 3, 3,\n",
       "        4, 3, 3, 2, 3, 4, 2, 3, 4, 3, 2, 3, 4, 2, 4, 3, 3, 3, 4, 3, 3, 2,\n",
       "        3, 4, 2, 3, 4, 3, 2, 3, 4, 2, 4, 3, 3, 3, 4, 3, 3, 2, 3, 4, 2, 3,\n",
       "        4, 3, 2, 3, 4, 2, 4, 3, 3, 3, 4, 3, 3, 2, 3, 4, 2, 2, 3, 4, 3, 2,\n",
       "        3, 4, 2, 4, 3, 3, 3, 4, 3, 3, 2, 3, 4, 2, 2, 3, 4, 3, 2, 3, 4, 2,\n",
       "        4, 3, 3, 3, 4, 3, 3, 2, 3, 4, 2, 2, 3, 4, 3, 2, 3, 4, 2, 4, 3, 3,\n",
       "        3, 4, 3, 3, 2, 3, 4, 2, 2, 3, 4, 3, 2, 3, 4, 2, 4, 3, 3, 3, 4, 3,\n",
       "        3, 2, 3, 4, 2, 2, 3, 4, 3, 2, 3, 4, 2, 4, 2, 3, 4, 3, 3, 4, 3, 3,\n",
       "        2, 3, 4, 2, 2, 3, 4, 3, 2, 3, 4, 2, 4, 2, 3, 4, 3, 3, 4, 3, 3, 2,\n",
       "        3, 4, 2, 3, 2, 3, 4, 3, 2, 3, 4, 2, 4, 2, 3, 4, 3, 3, 4, 3, 3, 2,\n",
       "        3, 4, 2, 3, 2, 3, 4, 3, 2, 3, 4, 2, 4, 2, 3, 4, 3, 3, 4, 3, 3, 2,\n",
       "        3, 4, 2, 3, 2, 3, 4, 3, 2, 3, 4, 2, 4, 2, 3, 4, 3, 3, 4, 3, 3, 2,\n",
       "        3, 4, 2, 3, 2, 3, 4, 3, 2, 3, 4, 2, 4, 2, 3, 4, 3, 3, 4, 3, 3, 2,\n",
       "        3, 4, 2, 3, 2, 3, 4, 3, 2, 3, 4, 2, 4, 2, 3, 4, 3, 3, 4, 3, 3, 2,\n",
       "        3, 4, 2, 3, 2, 3, 4, 3, 2, 3, 4, 2, 4, 2, 3, 4, 3, 3, 4, 3, 3, 2,\n",
       "        3, 4, 2, 3, 2, 3, 4, 3, 2, 3, 4, 2, 4, 2, 3, 4, 3, 3, 4, 3, 3, 3,\n",
       "        2, 3, 4, 2, 3, 2, 3, 4, 3, 2, 3, 4, 2, 4, 2, 3, 4, 3, 3, 4, 3, 3,\n",
       "        3, 2, 3, 4, 2, 3, 2, 3, 4, 3, 2, 3, 4, 2, 4, 2, 3, 4, 3, 3, 4, 3,\n",
       "        3, 3, 2, 3, 4, 2, 3, 2, 3, 4, 3, 2, 3, 4, 2, 4, 2, 3, 4, 3, 3, 4,\n",
       "        3, 3, 3, 2, 3, 4, 3, 2, 3, 2, 3, 4, 3, 2, 3, 4, 2, 4, 2, 3, 4, 3,\n",
       "        3, 4, 3, 3, 3, 2, 3, 4, 3, 3, 2, 3, 2, 3, 4, 3, 2, 3, 4, 2, 4, 2,\n",
       "        3, 4, 3, 3, 4, 3, 3, 3, 2, 3, 4, 3, 3, 2, 3, 3, 2, 3, 4, 3, 2, 3,\n",
       "        4, 2, 4], dtype=int64))"
      ]
     },
     "execution_count": 32,
     "metadata": {},
     "output_type": "execute_result"
    }
   ],
   "source": [
    "threshold=3\n",
    "np.where(z>3)"
   ]
  },
  {
   "cell_type": "code",
   "execution_count": 33,
   "metadata": {},
   "outputs": [
    {
     "data": {
      "text/html": [
       "<div>\n",
       "<style scoped>\n",
       "    .dataframe tbody tr th:only-of-type {\n",
       "        vertical-align: middle;\n",
       "    }\n",
       "\n",
       "    .dataframe tbody tr th {\n",
       "        vertical-align: top;\n",
       "    }\n",
       "\n",
       "    .dataframe thead th {\n",
       "        text-align: right;\n",
       "    }\n",
       "</style>\n",
       "<table border=\"1\" class=\"dataframe\">\n",
       "  <thead>\n",
       "    <tr style=\"text-align: right;\">\n",
       "      <th></th>\n",
       "      <th>Date</th>\n",
       "      <th>Country</th>\n",
       "      <th>Confirmed</th>\n",
       "      <th>Recovered</th>\n",
       "      <th>Deaths</th>\n",
       "    </tr>\n",
       "  </thead>\n",
       "  <tbody>\n",
       "    <tr>\n",
       "      <th>0</th>\n",
       "      <td>0</td>\n",
       "      <td>0</td>\n",
       "      <td>0</td>\n",
       "      <td>0</td>\n",
       "      <td>0</td>\n",
       "    </tr>\n",
       "    <tr>\n",
       "      <th>1</th>\n",
       "      <td>0</td>\n",
       "      <td>1</td>\n",
       "      <td>0</td>\n",
       "      <td>0</td>\n",
       "      <td>0</td>\n",
       "    </tr>\n",
       "    <tr>\n",
       "      <th>2</th>\n",
       "      <td>0</td>\n",
       "      <td>2</td>\n",
       "      <td>0</td>\n",
       "      <td>0</td>\n",
       "      <td>0</td>\n",
       "    </tr>\n",
       "    <tr>\n",
       "      <th>3</th>\n",
       "      <td>0</td>\n",
       "      <td>3</td>\n",
       "      <td>0</td>\n",
       "      <td>0</td>\n",
       "      <td>0</td>\n",
       "    </tr>\n",
       "    <tr>\n",
       "      <th>4</th>\n",
       "      <td>0</td>\n",
       "      <td>4</td>\n",
       "      <td>0</td>\n",
       "      <td>0</td>\n",
       "      <td>0</td>\n",
       "    </tr>\n",
       "    <tr>\n",
       "      <th>...</th>\n",
       "      <td>...</td>\n",
       "      <td>...</td>\n",
       "      <td>...</td>\n",
       "      <td>...</td>\n",
       "      <td>...</td>\n",
       "    </tr>\n",
       "    <tr>\n",
       "      <th>23683</th>\n",
       "      <td>50</td>\n",
       "      <td>183</td>\n",
       "      <td>429</td>\n",
       "      <td>365</td>\n",
       "      <td>3</td>\n",
       "    </tr>\n",
       "    <tr>\n",
       "      <th>23684</th>\n",
       "      <td>50</td>\n",
       "      <td>184</td>\n",
       "      <td>9</td>\n",
       "      <td>6</td>\n",
       "      <td>1</td>\n",
       "    </tr>\n",
       "    <tr>\n",
       "      <th>23685</th>\n",
       "      <td>50</td>\n",
       "      <td>185</td>\n",
       "      <td>249</td>\n",
       "      <td>10</td>\n",
       "      <td>49</td>\n",
       "    </tr>\n",
       "    <tr>\n",
       "      <th>23686</th>\n",
       "      <td>50</td>\n",
       "      <td>186</td>\n",
       "      <td>920</td>\n",
       "      <td>336</td>\n",
       "      <td>7</td>\n",
       "    </tr>\n",
       "    <tr>\n",
       "      <th>23687</th>\n",
       "      <td>50</td>\n",
       "      <td>187</td>\n",
       "      <td>56</td>\n",
       "      <td>25</td>\n",
       "      <td>4</td>\n",
       "    </tr>\n",
       "  </tbody>\n",
       "</table>\n",
       "<p>23177 rows × 5 columns</p>\n",
       "</div>"
      ],
      "text/plain": [
       "       Date  Country  Confirmed  Recovered  Deaths\n",
       "0         0        0          0          0       0\n",
       "1         0        1          0          0       0\n",
       "2         0        2          0          0       0\n",
       "3         0        3          0          0       0\n",
       "4         0        4          0          0       0\n",
       "...     ...      ...        ...        ...     ...\n",
       "23683    50      183        429        365       3\n",
       "23684    50      184          9          6       1\n",
       "23685    50      185        249         10      49\n",
       "23686    50      186        920        336       7\n",
       "23687    50      187         56         25       4\n",
       "\n",
       "[23177 rows x 5 columns]"
      ]
     },
     "execution_count": 33,
     "metadata": {},
     "output_type": "execute_result"
    }
   ],
   "source": [
    "df1=df[(z<3).all(axis=1)]\n",
    "df1"
   ]
  },
  {
   "cell_type": "code",
   "execution_count": 35,
   "metadata": {},
   "outputs": [
    {
     "data": {
      "text/plain": [
       "(23688, 5)"
      ]
     },
     "execution_count": 35,
     "metadata": {},
     "output_type": "execute_result"
    }
   ],
   "source": [
    "df.shape"
   ]
  },
  {
   "cell_type": "code",
   "execution_count": 36,
   "metadata": {},
   "outputs": [],
   "source": [
    "# Here we can see that around 510 rows are deleted as OutLiers"
   ]
  },
  {
   "cell_type": "code",
   "execution_count": 37,
   "metadata": {},
   "outputs": [
    {
     "data": {
      "text/html": [
       "<div>\n",
       "<style scoped>\n",
       "    .dataframe tbody tr th:only-of-type {\n",
       "        vertical-align: middle;\n",
       "    }\n",
       "\n",
       "    .dataframe tbody tr th {\n",
       "        vertical-align: top;\n",
       "    }\n",
       "\n",
       "    .dataframe thead th {\n",
       "        text-align: right;\n",
       "    }\n",
       "</style>\n",
       "<table border=\"1\" class=\"dataframe\">\n",
       "  <thead>\n",
       "    <tr style=\"text-align: right;\">\n",
       "      <th></th>\n",
       "      <th>Date</th>\n",
       "      <th>Country</th>\n",
       "      <th>Confirmed</th>\n",
       "      <th>Recovered</th>\n",
       "    </tr>\n",
       "  </thead>\n",
       "  <tbody>\n",
       "    <tr>\n",
       "      <th>0</th>\n",
       "      <td>0</td>\n",
       "      <td>0</td>\n",
       "      <td>0</td>\n",
       "      <td>0</td>\n",
       "    </tr>\n",
       "    <tr>\n",
       "      <th>1</th>\n",
       "      <td>0</td>\n",
       "      <td>1</td>\n",
       "      <td>0</td>\n",
       "      <td>0</td>\n",
       "    </tr>\n",
       "    <tr>\n",
       "      <th>2</th>\n",
       "      <td>0</td>\n",
       "      <td>2</td>\n",
       "      <td>0</td>\n",
       "      <td>0</td>\n",
       "    </tr>\n",
       "    <tr>\n",
       "      <th>3</th>\n",
       "      <td>0</td>\n",
       "      <td>3</td>\n",
       "      <td>0</td>\n",
       "      <td>0</td>\n",
       "    </tr>\n",
       "    <tr>\n",
       "      <th>4</th>\n",
       "      <td>0</td>\n",
       "      <td>4</td>\n",
       "      <td>0</td>\n",
       "      <td>0</td>\n",
       "    </tr>\n",
       "  </tbody>\n",
       "</table>\n",
       "</div>"
      ],
      "text/plain": [
       "   Date  Country  Confirmed  Recovered\n",
       "0     0        0          0          0\n",
       "1     0        1          0          0\n",
       "2     0        2          0          0\n",
       "3     0        3          0          0\n",
       "4     0        4          0          0"
      ]
     },
     "execution_count": 37,
     "metadata": {},
     "output_type": "execute_result"
    }
   ],
   "source": [
    "x=df1.iloc[:,0:4]\n",
    "x.head()"
   ]
  },
  {
   "cell_type": "code",
   "execution_count": 38,
   "metadata": {},
   "outputs": [
    {
     "data": {
      "text/plain": [
       "0         0\n",
       "1         0\n",
       "2         0\n",
       "3         0\n",
       "4         0\n",
       "         ..\n",
       "23683     3\n",
       "23684     1\n",
       "23685    49\n",
       "23686     7\n",
       "23687     4\n",
       "Name: Deaths, Length: 23177, dtype: int64"
      ]
     },
     "execution_count": 38,
     "metadata": {},
     "output_type": "execute_result"
    }
   ],
   "source": [
    "y=df1.iloc[:,-1]\n",
    "y"
   ]
  },
  {
   "cell_type": "code",
   "execution_count": 39,
   "metadata": {},
   "outputs": [],
   "source": [
    "from sklearn.model_selection import train_test_split\n",
    "from sklearn.metrics import r2_score, mean_absolute_error,mean_squared_error\n",
    "from sklearn.linear_model import LinearRegression\n",
    "from sklearn import linear_model"
   ]
  },
  {
   "cell_type": "code",
   "execution_count": 40,
   "metadata": {},
   "outputs": [
    {
     "name": "stdout",
     "output_type": "stream",
     "text": [
      "\n",
      "The max r2 score corresponding to 80 is 0.6367791358161026\n"
     ]
    }
   ],
   "source": [
    "max_r_score=0\n",
    "for r_state in range(40,105):\n",
    "    x_train,x_test,y_train,y_test=train_test_split(x,y,test_size=0.20,random_state=r_state)\n",
    "    linr=LinearRegression()\n",
    "    linr.fit(x_train,y_train)\n",
    "    predlinr=linr.predict(x_test)\n",
    "    r2score=r2_score(y_test,predlinr)\n",
    "    if (r2score>max_r_score):\n",
    "        max_r_score=r2score\n",
    "        final_r_state=r_state\n",
    "print(\"\")\n",
    "print(\"The max r2 score corresponding to\",final_r_state,'is',max_r_score)\n",
    "    "
   ]
  },
  {
   "cell_type": "code",
   "execution_count": 41,
   "metadata": {},
   "outputs": [],
   "source": [
    "x_train,x_test,y_train,y_test=train_test_split(x,y,test_size=0.20,random_state=80)"
   ]
  },
  {
   "cell_type": "code",
   "execution_count": 43,
   "metadata": {},
   "outputs": [
    {
     "name": "stdout",
     "output_type": "stream",
     "text": [
      "(18541, 4)\n",
      "(18541,)\n",
      "(4636, 4)\n",
      "(4636,)\n"
     ]
    }
   ],
   "source": [
    "print(x_train.shape)\n",
    "print(y_train.shape)\n",
    "print(x_test.shape)\n",
    "print(y_test.shape)"
   ]
  },
  {
   "cell_type": "code",
   "execution_count": 44,
   "metadata": {},
   "outputs": [
    {
     "data": {
      "text/plain": [
       "LinearRegression(copy_X=True, fit_intercept=True, n_jobs=None, normalize=False)"
      ]
     },
     "execution_count": 44,
     "metadata": {},
     "output_type": "execute_result"
    }
   ],
   "source": [
    "linr.fit(x_train,y_train)"
   ]
  },
  {
   "cell_type": "code",
   "execution_count": 45,
   "metadata": {},
   "outputs": [
    {
     "data": {
      "text/plain": [
       "0.5589925430718636"
      ]
     },
     "execution_count": 45,
     "metadata": {},
     "output_type": "execute_result"
    }
   ],
   "source": [
    "linr.score(x_train,y_train)"
   ]
  },
  {
   "cell_type": "code",
   "execution_count": 46,
   "metadata": {},
   "outputs": [],
   "source": [
    "predlinr=linr.predict(x_test)"
   ]
  },
  {
   "cell_type": "code",
   "execution_count": 47,
   "metadata": {},
   "outputs": [
    {
     "name": "stdout",
     "output_type": "stream",
     "text": [
      "R2-Score= 0.6367791358161026\n"
     ]
    }
   ],
   "source": [
    "print('R2-Score=', r2_score(y_test,predlinr))"
   ]
  },
  {
   "cell_type": "code",
   "execution_count": 48,
   "metadata": {},
   "outputs": [
    {
     "name": "stdout",
     "output_type": "stream",
     "text": [
      "93.33196432095198\n",
      "RMSE= 411.4271055275806\n"
     ]
    }
   ],
   "source": [
    "print(mean_absolute_error(y_test,predlinr))\n",
    "print('RMSE=',np.sqrt(mean_squared_error(y_test,predlinr)))"
   ]
  },
  {
   "cell_type": "code",
   "execution_count": 49,
   "metadata": {},
   "outputs": [
    {
     "data": {
      "text/plain": [
       "array([ 0.09665147, -0.32496243,  0.05169461, -0.00521365])"
      ]
     },
     "execution_count": 49,
     "metadata": {},
     "output_type": "execute_result"
    }
   ],
   "source": [
    "linr.coef_"
   ]
  },
  {
   "cell_type": "code",
   "execution_count": 50,
   "metadata": {},
   "outputs": [
    {
     "data": {
      "text/plain": [
       "14.303226431635906"
      ]
     },
     "execution_count": 50,
     "metadata": {},
     "output_type": "execute_result"
    }
   ],
   "source": [
    "linr.intercept_"
   ]
  },
  {
   "cell_type": "code",
   "execution_count": 51,
   "metadata": {},
   "outputs": [],
   "source": [
    "# We can use Random Forest Regressor"
   ]
  },
  {
   "cell_type": "code",
   "execution_count": 52,
   "metadata": {},
   "outputs": [],
   "source": [
    "from sklearn.ensemble import RandomForestRegressor"
   ]
  },
  {
   "cell_type": "code",
   "execution_count": 54,
   "metadata": {},
   "outputs": [
    {
     "data": {
      "text/plain": [
       "0.9943872194821403"
      ]
     },
     "execution_count": 54,
     "metadata": {},
     "output_type": "execute_result"
    }
   ],
   "source": [
    "rf=RandomForestRegressor(n_estimators=150,random_state=80)\n",
    "rf.fit(x_train,y_train)\n",
    "rf.score(x_train,y_train)"
   ]
  },
  {
   "cell_type": "code",
   "execution_count": 55,
   "metadata": {},
   "outputs": [
    {
     "name": "stdout",
     "output_type": "stream",
     "text": [
      "0.9647285092210081\n"
     ]
    }
   ],
   "source": [
    "predrf=rf.predict(x_test)\n",
    "print(r2_score(y_test,predrf))"
   ]
  },
  {
   "cell_type": "code",
   "execution_count": 56,
   "metadata": {},
   "outputs": [],
   "source": [
    "# NOW WE ARE TRYING USING REGULARISATION TECHNIQUES(LASSO & RIDGE)"
   ]
  },
  {
   "cell_type": "code",
   "execution_count": 57,
   "metadata": {},
   "outputs": [],
   "source": [
    "from sklearn.linear_model import Lasso, Ridge"
   ]
  },
  {
   "cell_type": "code",
   "execution_count": 59,
   "metadata": {},
   "outputs": [
    {
     "data": {
      "text/plain": [
       "0.5589925430718612"
      ]
     },
     "execution_count": 59,
     "metadata": {},
     "output_type": "execute_result"
    }
   ],
   "source": [
    "ls=Lasso(alpha=0.001)\n",
    "ls.fit(x_train,y_train)\n",
    "ls.score(x_train,y_train)"
   ]
  },
  {
   "cell_type": "code",
   "execution_count": 61,
   "metadata": {},
   "outputs": [
    {
     "data": {
      "text/plain": [
       "0.5589925430718636"
      ]
     },
     "execution_count": 61,
     "metadata": {},
     "output_type": "execute_result"
    }
   ],
   "source": [
    "rd=Ridge(alpha=.001)\n",
    "rd.fit(x_train,y_train)\n",
    "rd.score(x_train,y_train)"
   ]
  },
  {
   "cell_type": "code",
   "execution_count": 4,
   "metadata": {},
   "outputs": [],
   "source": [
    "from sklearn.externals import joblib"
   ]
  },
  {
   "cell_type": "code",
   "execution_count": null,
   "metadata": {},
   "outputs": [],
   "source": []
  }
 ],
 "metadata": {
  "kernelspec": {
   "display_name": "Python 3",
   "language": "python",
   "name": "python3"
  },
  "language_info": {
   "codemirror_mode": {
    "name": "ipython",
    "version": 3
   },
   "file_extension": ".py",
   "mimetype": "text/x-python",
   "name": "python",
   "nbconvert_exporter": "python",
   "pygments_lexer": "ipython3",
   "version": "3.7.6"
  }
 },
 "nbformat": 4,
 "nbformat_minor": 4
}
